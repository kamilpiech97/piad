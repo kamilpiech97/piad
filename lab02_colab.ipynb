{
  "cells": [
    {
      "cell_type": "markdown",
      "metadata": {
        "id": "view-in-github",
        "colab_type": "text"
      },
      "source": [
        "<a href=\"https://colab.research.google.com/github/kamilpiech97/piad/blob/main/lab02_colab.ipynb\" target=\"_parent\"><img src=\"https://colab.research.google.com/assets/colab-badge.svg\" alt=\"Open In Colab\"/></a>"
      ]
    },
    {
      "cell_type": "markdown",
      "metadata": {
        "id": "f3AwQYxiQn-m"
      },
      "source": [
        "# Laboratorium 2: Operacje na tablicach\n",
        "\n",
        "Witam na Laboratorium 2!  Nauczymy się jak importować moduły i poćwiczymy operacje na tablicach!\n",
        "\n",
        "Zalecana lektura:\n",
        " * [Introduction to tables](https://www.inferentialthinking.com/chapters/03/4/Introduction_to_Tables)\n",
        "\n",
        "Najpierw skonfiguruj importy, uruchamiając poniższą komórkę."
      ]
    },
    {
      "cell_type": "code",
      "execution_count": 14,
      "metadata": {
        "id": "plZXXRP0Qn-n",
        "colab": {
          "base_uri": "https://localhost:8080/"
        },
        "outputId": "9ecb590c-807e-41de-9113-be74b8f9bacd"
      },
      "outputs": [
        {
          "output_type": "stream",
          "name": "stderr",
          "text": [
            "/usr/local/lib/python3.7/dist-packages/datascience/tables.py:17: MatplotlibDeprecationWarning: The 'warn' parameter of use() is deprecated since Matplotlib 3.1 and will be removed in 3.3.  If any parameter follows 'warn', they should be pass as keyword, not positionally.\n",
            "  matplotlib.use('agg', warn=False)\n",
            "/usr/local/lib/python3.7/dist-packages/datascience/util.py:10: MatplotlibDeprecationWarning: The 'warn' parameter of use() is deprecated since Matplotlib 3.1 and will be removed in 3.3.  If any parameter follows 'warn', they should be pass as keyword, not positionally.\n",
            "  matplotlib.use('agg', warn=False)\n"
          ]
        },
        {
          "output_type": "stream",
          "name": "stdout",
          "text": [
            "Mounted at /content/drive\n"
          ]
        }
      ],
      "source": [
        "# Tylko uruchom komórkę\n",
        "\n",
        "# jeśli biblioteka datascience nie jest dostępna usuń # z początku kolejnej linii\n",
        "# instrukcja zakłada, że do katalogu głównego Twojego dysku Google znajduje się rozpakowane archiwum PiAD_lab02\n",
        "# !pip install datascience\n",
        "\n",
        "import numpy as np\n",
        "from datascience import *\n",
        "\n",
        "\n",
        "# Inicjalizacja dysku Google\n",
        "from google.colab import drive\n",
        "drive.mount('/content/drive')\n",
        "\n"
      ]
    },
    {
      "cell_type": "markdown",
      "metadata": {
        "id": "jDpNs691Qn-o"
      },
      "source": [
        "# 1. Powtórka: Elementy składowe kodu Pythona\n",
        "\n",
        "Dwa elementy składowe kodu Pythona to *wyrażenia* i *instrukcje*. **Wyrażenie** jest fragmentem kodu, który\n",
        "\n",
        "* is self-contained, meaning it would make sense to write it on a line by itself, and\n",
        "* usually evaluates to a value.\n",
        "\n",
        "\n",
        "Poniżej są dwa wyrażenie, które po obliczeniu dają  3:\n",
        "\n",
        "    3\n",
        "    5 - 2\n",
        "    \n",
        "Ważnym typem wyrażenia są **Wyrażenia wywołania**. Wyrażenie wywołania zaczyna się nazwą funkcji, po której występuje(-ą) argument(-y) funkcji w nawiasach. Funkcja zwraca pewną wartość na podstawie swoich argumentów. Poniżej wymieniono niektóre ważne funkcje matematyczne.\n",
        "\n",
        "| Funkcja  | Opis                                                          |\n",
        "|----------|---------------------------------------------------------------|\n",
        "| `abs`      | Zwraca wartość bezwzględną swojego argumentu                |\n",
        "| `max`      | Zwraca maksium z wszystkich argumentów                      |\n",
        "| `min`      | Zwraca minimium z wszystkich argumentów                     |\n",
        "| `pow`      | Podnosi swój pierwszy argument do potęgi drugiego argumentu |\n",
        "| `round`    | Zaokrągla swój argument do najbliższej liczby całkowitej    |\n",
        "\n",
        "Oto dwa wyrażenia wywołania, z których oba dają wynik 3:\n",
        "\n",
        "    abs(2 - 5)\n",
        "    max(round(2.8), min(pow(2, 10), -1 * pow(2, 10)))\n",
        "\n",
        "Wyrażenie `2 - 5` i dwa wyrażenia wywołania podane powyżej są przykładami **wyrażeń złożonych**, co oznacza, że są one w rzeczywistości kombinacjami kilku mniejszych wyrażeń. `2 - 5` łączy wyrażenia `2` i `5` przez odejmowanie. W tym przypadku „2” i „5” są nazywane **wyrażeniami podrzędnymi**, ponieważ są wyrażeniami będącymi częścią większego wyrażenia.\n",
        "\n",
        "**Instrukcja** to cały wiersz kodu. Niektóre instrukcje to tylko wyrażenia. Wymienione powyżej wyrażenia są przykładami.\n",
        "\n",
        "Inne instrukcje *sprawiają, że coś się dzieje* zamiast *mają wartość*. Na przykład **instrukcja przypisania** przypisuje wartość do nazwy.\n",
        "\n",
        "Dobrym sposobem na zastanowienie się nad tym jest to, że **obliczamy prawą stronę** znaku równości i **przypisujemy go do lewej strony**. Oto kilka instrukcji przypisania:\n",
        "    \n",
        "    height = 1.3\n",
        "    the_number_five = abs(-5)\n",
        "    absolute_height_difference = abs(height - 1.688)\n",
        "\n",
        "Ważną ideą w programowaniu jest to, że duże, ciekawe rzeczy można budować, łącząc wiele prostych, nieciekawych rzeczy. Kluczem do zrozumienia skomplikowanego fragmentu kodu jest rozbicie go na proste elementy.\n",
        "\n",
        "Na przykład w ostatnim zdaniu powyżej wiele się dzieje, ale tak naprawdę jest to tylko połączenie kilku rzeczy. Ten obrazek opisuje, co się dzieje.\n",
        "\n",
        "<img src=\"https://github.com/data-8/materials-fa21/blob/master/materials/fa21/lab/lab02/statement.png?raw=true\">"
      ]
    },
    {
      "cell_type": "markdown",
      "metadata": {
        "id": "FmnDaI8NQn-o"
      },
      "source": [
        "**Pytanie 1.1.** W następnej komórce, przypisz nazwie `nowy_rok` wartość większej liczby z następujących dwóch liczb:\n",
        "\n",
        "1. **wartość bezwzględna** z $2^{5}-2^{11}-2^1 + 1$, i \n",
        "2. $5 \\times 13 \\times 31 + 7$.\n",
        "\n",
        "Postaraj się użyć tylko jednej instrukcji (jedna linia kodu). "
      ]
    },
    {
      "cell_type": "code",
      "execution_count": 51,
      "metadata": {
        "id": "cmibyYfKQn-p",
        "colab": {
          "base_uri": "https://localhost:8080/"
        },
        "outputId": "13dcda80-cae0-4977-a34d-9f401d165edd"
      },
      "outputs": [
        {
          "output_type": "execute_result",
          "data": {
            "text/plain": [
              "2022"
            ]
          },
          "metadata": {},
          "execution_count": 51
        }
      ],
      "source": [
        "new_year = max(abs(((2**5) - (2**11) - (2**1) + 1)), (5*13*31+7))\n",
        "new_year"
      ]
    },
    {
      "cell_type": "markdown",
      "metadata": {
        "id": "CFgRMf6eQn-p"
      },
      "source": [
        "W pytaniu powyżej należało użyć jednego wiersza kodu, ponieważ zawiera on tylko operacje matematyczne. Jednak bardziej skomplikowane pytania programistyczne będą wymagały więcej kroków. Nie zawsze dobrym pomysłem jest zgrupowanie tych kroków w jednym wierszu, ponieważ może to utrudnić odczytanie kodu i debugowanie.\n",
        "\n",
        "Dobra praktyka programistyczna polega na podzieleniu kodu na mniejsze kroki i użyciu odpowiednich nazw!"
      ]
    },
    {
      "cell_type": "markdown",
      "metadata": {
        "id": "JpWTjSNtQn-p"
      },
      "source": [
        "# 2. Importowanie kodu\n",
        "\n",
        "![imports](https://external-preview.redd.it/ZVPjiFo_Ubl4JeiU63SaTjdIoq5zveSnNZimKpgn2I8.png?auto=webp&s=bf32c94b630befa121075c1ae99b2599af6dedc5) \n",
        "\n",
        "[source](https://www.reddit.com/r/ProgrammerHumor/comments/cgtk7s/theres_no_need_to_reinvent_the_wheel_oc/)\n",
        "\n",
        "Większość programowania obejmuje pracę, która jest bardzo podobna do pracy, która była wykonywana wcześniej. Ponieważ pisanie kodu jest czasochłonne, dobrze jest polegać na kodzie opublikowanym przez innych, kiedy tylko to możliwe. Zamiast kopiować i wklejać, Python pozwala **importować moduły**. Moduł to plik z kodem Pythona, który ma zdefiniowane zmienne i funkcje. Importując moduł, jesteśmy w stanie wykorzystać jego kod we własnym notatniku.\n",
        "\n",
        "Python zawiera wiele przydatnych modułów, które można „zaimportować”. Jako pierwszy przykład przyjrzymy się modułowi `math`. Moduł `math` jest niezwykle przydatny przy obliczaniu wyrażeń matematycznych w Pythonie.\n",
        "\n",
        "Załóżmy, że chcemy bardzo dokładnie obliczyć pole koła o promieniu 5 metrów. W tym celu potrzebujemy stałej $\\pi$, która wynosi mniej więcej 3,14. Wygodne jest, że moduł `math` ma dla nas zdefiniowane `pi`:\n"
      ]
    },
    {
      "cell_type": "code",
      "execution_count": 1,
      "metadata": {
        "id": "_ymN1njFQn-p",
        "colab": {
          "base_uri": "https://localhost:8080/"
        },
        "outputId": "92e9cad7-3c32-411b-a46d-83f2207999aa"
      },
      "outputs": [
        {
          "output_type": "execute_result",
          "data": {
            "text/plain": [
              "78.53981633974483"
            ]
          },
          "metadata": {},
          "execution_count": 1
        }
      ],
      "source": [
        "import math\n",
        "radius = 5\n",
        "area_of_circle = radius**2 * math.pi\n",
        "area_of_circle"
      ]
    },
    {
      "cell_type": "markdown",
      "metadata": {
        "id": "w-J1v5KXQn-p"
      },
      "source": [
        "W powyższym kodzie wiersz `import math` importuje moduł math. Ta instrukcja tworzy moduł, a następnie przypisuje mu nazwę `math`. Możemy teraz uzyskać dostęp do dowolnych zmiennych lub funkcji zdefiniowanych w `math`, wpisując nazwę modułu, po której następuje kropka, a następnie nazwę żądanej zmiennej lub funkcji.\n",
        "\n",
        "    <nazwa_modułu>.<nazwa>"
      ]
    },
    {
      "cell_type": "markdown",
      "metadata": {
        "id": "kUzlUqugQn-q"
      },
      "source": [
        "**Pytanie 2.1.** Moduł `math` zapewnia również nazwę `e` dla podstawy logarytmu naturalnego, która wynosi w przybliżeniu 2.71. Oblicz $e^{\\pi}-\\pi$, nadając nazwę `near_twenty`.\n",
        "\n",
        "*Pamiętaj: Można użyć też  `pi` z modułu `math` !*\n"
      ]
    },
    {
      "cell_type": "code",
      "execution_count": 4,
      "metadata": {
        "id": "TxtaMuagQn-q",
        "colab": {
          "base_uri": "https://localhost:8080/"
        },
        "outputId": "ce35b792-106d-4dfa-afa5-db3532d6731e"
      },
      "outputs": [
        {
          "output_type": "execute_result",
          "data": {
            "text/plain": [
              "23.140692632779263"
            ]
          },
          "metadata": {},
          "execution_count": 4
        }
      ],
      "source": [
        "near_twenty = math.e**math.pi\n",
        "near_twenty"
      ]
    },
    {
      "cell_type": "markdown",
      "metadata": {
        "id": "DgnJgzySQn-q"
      },
      "source": [
        "![XKCD](http://imgs.xkcd.com/comics/e_to_the_pi_minus_pi.png)\n",
        "\n",
        "[Source](http://imgs.xkcd.com/comics/e_to_the_pi_minus_pi.png)\n",
        "[Explaination](https://www.explainxkcd.com/wiki/index.php/217:_e_to_the_pi_Minus_pi)"
      ]
    },
    {
      "cell_type": "markdown",
      "metadata": {
        "id": "AAdu9fiqQn-q"
      },
      "source": [
        "## 2.1. Dostęp do funkcji\n",
        "\n",
        "W powyższym pytaniu wykorzystywany był dostęp do zmiennych w module `math`.\n",
        "\n",
        "**Moduły** definiują również **funkcje**. Na przykład `math` zapewnia nazwę `sin` dla funkcji sinus. Po zaimportowaniu `math` możemy napisać `math.sin(3)`, aby obliczyć sinus 3. (Zauważ, że ta funkcja sinus uważa, że jej argument jest w [radianach](https://en.wikipedia.org /wiki/Radian), a nie stopni. 180 stopni to odpowiedniki $\\pi$ radianów.)\n",
        "\n",
        "\n",
        "**Pytanie 2.1.1.** \n",
        "Kąt $\\frac{\\pi}{4}$-radianów (45 stopni) tworzy trójkąt prostokątny o równej podstawie i wysokości, jak pokazano poniżej. Jeżeli przeciwprostokątna (promień okręgu na rysunku) wynosi 1, to wysokość wynosi $\\sin(\\frac{\\pi}{4})$. Oblicz tę wartość za pomocą `sin` i `pi` z modułu `math`. Nadaj wynikowi nazwę `sine_of_pi_over_four`.\n",
        "\n",
        "<img src=\"http://mathworld.wolfram.com/images/eps-gif/TrigonometryAnglesPi4_1000.gif\">\n",
        "\n",
        "[Source](http://mathworld.wolfram.com/images/eps-gif/TrigonometryAnglesPi4_1000.gif)\n",
        "\n",
        "<!--\n",
        "BEGIN QUESTION\n",
        "name: q211\n",
        "-->"
      ]
    },
    {
      "cell_type": "code",
      "execution_count": 6,
      "metadata": {
        "id": "tpzG4GldQn-q",
        "colab": {
          "base_uri": "https://localhost:8080/"
        },
        "outputId": "246c78aa-475d-488f-bae8-a07dc55723be"
      },
      "outputs": [
        {
          "output_type": "execute_result",
          "data": {
            "text/plain": [
              "0.7071067811865475"
            ]
          },
          "metadata": {},
          "execution_count": 6
        }
      ],
      "source": [
        "sine_of_pi_over_four = math.sin(math.pi/4)\n",
        "sine_of_pi_over_four"
      ]
    },
    {
      "cell_type": "markdown",
      "metadata": {
        "id": "kJBZeQ53Qn-q"
      },
      "source": [
        "Poniżej znajdziesz kilka przykładów funkcji z modułu `math`.\n",
        "\n",
        "Zwróć uwagę, że różne funkcje przyjmują różną liczbę argumentów. Często, [dokumentacja](https://docs.python.org/3/library/math.html) omodułu dostarcza informację ile argumentów jest wymagane przez każdą funkcję.\n",
        "\n",
        "*Wskazówka: Naciśnięcie `shift+tab` za wywołaniem funkcji wyświetla dokumentację dla tej fukcji*"
      ]
    },
    {
      "cell_type": "code",
      "execution_count": 7,
      "metadata": {
        "id": "obN6BT5TQn-q",
        "colab": {
          "base_uri": "https://localhost:8080/"
        },
        "outputId": "b44937a0-13f5-4044-b489-35e3ef183a27"
      },
      "outputs": [
        {
          "output_type": "execute_result",
          "data": {
            "text/plain": [
              "3.0"
            ]
          },
          "metadata": {},
          "execution_count": 7
        }
      ],
      "source": [
        "# Obliczanie logarytmów (logarytm z 8 o podstawie 2).\n",
        "# Wynik jest 3 ponieważ 2 do potęgi 3 to 8.\n",
        "math.log(8, 2)"
      ]
    },
    {
      "cell_type": "code",
      "execution_count": 8,
      "metadata": {
        "id": "0yKieidNQn-q",
        "colab": {
          "base_uri": "https://localhost:8080/"
        },
        "outputId": "9198ce6a-6c36-4233-c59b-4f1b0435ab31"
      },
      "outputs": [
        {
          "output_type": "execute_result",
          "data": {
            "text/plain": [
              "2.23606797749979"
            ]
          },
          "metadata": {},
          "execution_count": 8
        }
      ],
      "source": [
        "# Obliczanie pierwiastka kwadratowego.\n",
        "math.sqrt(5)"
      ]
    },
    {
      "cell_type": "markdown",
      "metadata": {
        "id": "Jf03bieEQn-q"
      },
      "source": [
        "Istnieje wiele sposobów importowania i uzyskiwania dostępu do kodu ze źródeł zewnętrznych. Metoda, której użyliśmy powyżej — `import <nazwa_modułu>` — importuje cały moduł i wymaga użycia `<nazwa_modułu>.<nazwa>` w celu uzyskania dostępu do jego kodu.\n",
        "\n",
        "Możemy również zaimportować konkretną stałą lub funkcję zamiast całego modułu. Zauważ, że nie musisz wcześniej używać nazwy modułu, aby odwołać się do tej konkretnej wartości. Musisz jednak uważać na ponowne przypisywanie nazw stałych lub funkcji do innych wartości!"
      ]
    },
    {
      "cell_type": "code",
      "execution_count": 9,
      "metadata": {
        "id": "VuWU8KJbQn-r",
        "colab": {
          "base_uri": "https://localhost:8080/"
        },
        "outputId": "ef403346-17ac-4e2e-9257-ab9b310d72da"
      },
      "outputs": [
        {
          "output_type": "stream",
          "name": "stdout",
          "text": [
            "-1.0\n"
          ]
        },
        {
          "output_type": "execute_result",
          "data": {
            "text/plain": [
              "1.1447298858494002"
            ]
          },
          "metadata": {},
          "execution_count": 9
        }
      ],
      "source": [
        "# Importowanie tylko cos i pi z math.\n",
        "# Nie musimy używać `math.` przed cos lub pi\n",
        "from math import cos, pi\n",
        "print(cos(pi))\n",
        "\n",
        "# Musimy go jednak używać przed innymi funkcjami z math\n",
        "math.log(pi)"
      ]
    },
    {
      "cell_type": "markdown",
      "metadata": {
        "id": "1X5todDKQn-r"
      },
      "source": [
        "Można też zaimportować każdą funkcję i wartość z całego modułu."
      ]
    },
    {
      "cell_type": "code",
      "execution_count": 10,
      "metadata": {
        "id": "KGeRFKfjQn-r",
        "colab": {
          "base_uri": "https://localhost:8080/"
        },
        "outputId": "7da0ad71-8e43-4e90-a273-a4a828b2712c"
      },
      "outputs": [
        {
          "output_type": "execute_result",
          "data": {
            "text/plain": [
              "1.1447298858494002"
            ]
          },
          "metadata": {},
          "execution_count": 10
        }
      ],
      "source": [
        "# Importowanie wszystkiego z math za pomocą *\n",
        "# Po raz kolejny nie musimy używać 'math'. przed\n",
        "from math import *\n",
        "log(pi)"
      ]
    },
    {
      "cell_type": "markdown",
      "metadata": {
        "id": "BYz5ZPpWQn-r"
      },
      "source": [
        "Nie należy przejmować się, jakiego typu importu użyć. Często jest to wybór stylu kodowania pozostawiony każdemu programiście. W tym kursie zawsze będziesz importować niezbędne moduły po uruchomieniu komórki konfiguracji (takiej jak pierwsza komórka kodu w tym laboratorium).\n"
      ]
    },
    {
      "cell_type": "markdown",
      "metadata": {
        "id": "DOLZ5K9dQn-r"
      },
      "source": [
        "# 3. Operacje na tabelach\n",
        "\n",
        "Tabela `farmers_markets.csv` zawiera dane o rynkach rolniczych w Stanach Zjednoczonych  (dane zebrane przez [USDA](https://apps.ams.usda.gov/FarmersMarketsExport/ExcelExport.aspx)).  Każdy wiersz reprezentuje jeden taki rynek.\n",
        "\n",
        "Uruchom komórkę poniżej, aby załadować tabelę `farmers_markets`."
      ]
    },
    {
      "cell_type": "code",
      "execution_count": 17,
      "metadata": {
        "id": "iAAwT1UfQn-r"
      },
      "outputs": [],
      "source": [
        "# Tylko uruchom komórkę\n",
        "\n",
        "farmers_markets = Table.read_table('/content/drive/MyDrive/PiAD_lab_02/farmers_markets.csv')"
      ]
    },
    {
      "cell_type": "markdown",
      "metadata": {
        "id": "bBNgcVt3Qn-r"
      },
      "source": [
        "Przyjrzyjmy się naszej tabeli, aby zobaczyć, jakie dane zawiera.\n",
        "\n",
        "**Pytanie 3.1.** Użyj metody `show`, aby wyświetlić pierwsze 5 wierszy tabeli `farmers_markets`.\n",
        "\n",
        "*Uwaga:* Terminy \"metoda\" i \"funkcja\" technicznie nie są tym samym, ale na potrzeby tego kursu będziemy ich używać zamiennie.\n",
        "\n",
        "**Wskazówka:** `tbl.show(3)` pokaże pierwsze 3 wiersze tabeli `tbl`. Dodatkowo upewnij się, że nie wywołujesz `.show()` bez argumentu, ponieważ spowoduje to zawieszenie jądra!\n",
        "\n",
        "\n"
      ]
    },
    {
      "cell_type": "code",
      "execution_count": 20,
      "metadata": {
        "id": "xVRa42GVQn-r",
        "colab": {
          "base_uri": "https://localhost:8080/",
          "height": 349
        },
        "outputId": "427bb97a-0007-47d5-e674-fcb680965e15"
      },
      "outputs": [
        {
          "output_type": "display_data",
          "data": {
            "text/html": [
              "<table border=\"1\" class=\"dataframe\">\n",
              "    <thead>\n",
              "        <tr>\n",
              "            <th>FMID</th> <th>MarketName</th> <th>street</th> <th>city</th> <th>County</th> <th>State</th> <th>zip</th> <th>x</th> <th>y</th> <th>Website</th> <th>Facebook</th> <th>Twitter</th> <th>Youtube</th> <th>OtherMedia</th> <th>Organic</th> <th>Tofu</th> <th>Bakedgoods</th> <th>Cheese</th> <th>Crafts</th> <th>Flowers</th> <th>Eggs</th> <th>Seafood</th> <th>Herbs</th> <th>Vegetables</th> <th>Honey</th> <th>Jams</th> <th>Maple</th> <th>Meat</th> <th>Nursery</th> <th>Nuts</th> <th>Plants</th> <th>Poultry</th> <th>Prepared</th> <th>Soap</th> <th>Trees</th> <th>Wine</th> <th>Coffee</th> <th>Beans</th> <th>Fruits</th> <th>Grains</th> <th>Juices</th> <th>Mushrooms</th> <th>PetFood</th> <th>WildHarvested</th> <th>updateTime</th> <th>Location</th> <th>Credit</th> <th>WIC</th> <th>WICcash</th> <th>SFMNP</th> <th>SNAP</th> <th>Season1Date</th> <th>Season1Time</th> <th>Season2Date</th> <th>Season2Time</th> <th>Season3Date</th> <th>Season3Time</th> <th>Season4Date</th> <th>Season4Time</th>\n",
              "        </tr>\n",
              "    </thead>\n",
              "    <tbody>\n",
              "        <tr>\n",
              "            <td>1012063</td> <td> Caledonia Farmers Market Association - Danville</td> <td>nan            </td> <td>Danville </td> <td>Caledonia</td> <td>Vermont </td> <td>05828</td> <td>-72.1403</td> <td>44.411 </td> <td>https://sites.google.com/site/caledoniafarmersmarket/</td> <td>https://www.facebook.com/Danville.VT.Farmers.Market/</td> <td>nan    </td> <td>nan    </td> <td>nan                                     </td> <td>Y      </td> <td>N   </td> <td>Y         </td> <td>Y     </td> <td>Y     </td> <td>Y      </td> <td>Y   </td> <td>N      </td> <td>Y    </td> <td>Y         </td> <td>Y    </td> <td>Y   </td> <td>Y    </td> <td>Y   </td> <td>N      </td> <td>N   </td> <td>Y     </td> <td>Y      </td> <td>Y       </td> <td>Y   </td> <td>Y    </td> <td>N   </td> <td>Y     </td> <td>Y    </td> <td>Y     </td> <td>N     </td> <td>Y     </td> <td>N        </td> <td>Y      </td> <td>N            </td> <td>6/28/2016 12:10:09 PM</td> <td>nan     </td> <td>Y     </td> <td>Y   </td> <td>N      </td> <td>Y    </td> <td>N   </td> <td>06/08/2016 to 10/12/2016</td> <td>Wed: 9:00 AM-1:00 PM;</td> <td>nan        </td> <td>nan        </td> <td>nan        </td> <td>nan        </td> <td>nan        </td> <td>nan        </td>\n",
              "        </tr>\n",
              "        <tr>\n",
              "            <td>1011871</td> <td> Stearns Homestead Farmers' Market              </td> <td>6975 Ridge Road</td> <td>Parma    </td> <td>Cuyahoga </td> <td>Ohio    </td> <td>44130</td> <td>-81.7286</td> <td>41.3751</td> <td>http://Stearnshomestead.com                          </td> <td>nan                                                 </td> <td>nan    </td> <td>nan    </td> <td>nan                                     </td> <td>-      </td> <td>N   </td> <td>Y         </td> <td>N     </td> <td>N     </td> <td>Y      </td> <td>Y   </td> <td>N      </td> <td>Y    </td> <td>Y         </td> <td>Y    </td> <td>Y   </td> <td>Y    </td> <td>Y   </td> <td>N      </td> <td>N   </td> <td>Y     </td> <td>N      </td> <td>N       </td> <td>N   </td> <td>N    </td> <td>N   </td> <td>N     </td> <td>N    </td> <td>Y     </td> <td>N     </td> <td>N     </td> <td>N        </td> <td>Y      </td> <td>N            </td> <td>4/9/2016 8:05:17 PM  </td> <td>nan     </td> <td>Y     </td> <td>Y   </td> <td>N      </td> <td>Y    </td> <td>Y   </td> <td>06/25/2016 to 10/01/2016</td> <td>Sat: 9:00 AM-1:00 PM;</td> <td>nan        </td> <td>nan        </td> <td>nan        </td> <td>nan        </td> <td>nan        </td> <td>nan        </td>\n",
              "        </tr>\n",
              "        <tr>\n",
              "            <td>1011878</td> <td>100 Mile Market                                 </td> <td>507 Harrison St</td> <td>Kalamazoo</td> <td>Kalamazoo</td> <td>Michigan</td> <td>49007</td> <td>-85.5749</td> <td>42.296 </td> <td>http://www.pfcmarkets.com                            </td> <td>https://www.facebook.com/100MileMarket/?fref=ts     </td> <td>nan    </td> <td>nan    </td> <td>https://www.instagram.com/100milemarket/</td> <td>N      </td> <td>N   </td> <td>Y         </td> <td>Y     </td> <td>N     </td> <td>Y      </td> <td>Y   </td> <td>N      </td> <td>Y    </td> <td>Y         </td> <td>Y    </td> <td>Y   </td> <td>Y    </td> <td>Y   </td> <td>N      </td> <td>N   </td> <td>N     </td> <td>Y      </td> <td>Y       </td> <td>Y   </td> <td>N    </td> <td>Y   </td> <td>N     </td> <td>N    </td> <td>Y     </td> <td>Y     </td> <td>N     </td> <td>N        </td> <td>N      </td> <td>N            </td> <td>4/16/2016 12:37:56 PM</td> <td>nan     </td> <td>Y     </td> <td>Y   </td> <td>N      </td> <td>Y    </td> <td>Y   </td> <td>05/04/2016 to 10/12/2016</td> <td>Wed: 3:00 PM-7:00 PM;</td> <td>nan        </td> <td>nan        </td> <td>nan        </td> <td>nan        </td> <td>nan        </td> <td>nan        </td>\n",
              "        </tr>\n",
              "    </tbody>\n",
              "</table>\n",
              "<p>... (8543 rows omitted)</p>"
            ],
            "text/plain": [
              "<IPython.core.display.HTML object>"
            ]
          },
          "metadata": {}
        }
      ],
      "source": [
        "farmers_markets.show(3)"
      ]
    },
    {
      "cell_type": "markdown",
      "metadata": {
        "id": "5uCWy8sKQn-r"
      },
      "source": [
        "Zauważ, że brakuje niektórych wartości w tej tabeli, oznaczonych przez „nan”. Oznacza to, że wartość jest niedostępna (np. jeśli nie znamy adresu rynku) lub nie dotyczy (np. jeśli rynek nie ma adresu). Zauważysz również, że tabela zawiera dużą liczbę kolumn!\n",
        "\n",
        "### `num_columns`\n",
        "\n",
        "Właściwość tabeli `num_columns` zwraca liczbę kolumn w tabeli. (\"Właściwość\" to tylko metoda, której nie trzeba wywoływać przez dodanie nawiasów.)\n",
        "\n",
        "Przykładowe wywołanie: `<tbl>.num_columns`\n",
        "\n",
        "**Pytanie 3.2.** Użyj `num_columns` aby znaleźć liczbę kolumn w zbiorze danych naszych rynków rolnych.\n",
        "\n",
        "Przypisz liczbę kolumn do `num_farmers_markets_columns`.\n",
        "\n",
        "<!--\n",
        "BEGIN QUESTION\n",
        "name: q32\n",
        "-->"
      ]
    },
    {
      "cell_type": "code",
      "execution_count": 22,
      "metadata": {
        "id": "_DMXvkPvQn-r",
        "colab": {
          "base_uri": "https://localhost:8080/"
        },
        "outputId": "30e13c5b-a890-4f9b-f61a-319795d83bae"
      },
      "outputs": [
        {
          "output_type": "stream",
          "name": "stdout",
          "text": [
            "The table has 59 columns in it!\n"
          ]
        }
      ],
      "source": [
        "num_farmers_markets_columns = farmers_markets.num_columns\n",
        "print(\"The table has\", num_farmers_markets_columns, \"columns in it!\")"
      ]
    },
    {
      "cell_type": "markdown",
      "metadata": {
        "id": "wD_gA5l6Qn-r"
      },
      "source": [
        "### `num_rows`\n",
        "\n",
        "Podobnie, właściwość `num_rows` mówi ile wierszy jest w tabeli."
      ]
    },
    {
      "cell_type": "code",
      "execution_count": 23,
      "metadata": {
        "id": "iB22ZNCuQn-r",
        "colab": {
          "base_uri": "https://localhost:8080/"
        },
        "outputId": "9a5f1e97-fe3a-4bb2-e660-40984604caa9"
      },
      "outputs": [
        {
          "output_type": "stream",
          "name": "stdout",
          "text": [
            "The table has 8546 rows in it!\n"
          ]
        }
      ],
      "source": [
        "# Tylko uruchom komórkę\n",
        "\n",
        "num_farmers_markets_rows = farmers_markets.num_rows\n",
        "print(\"The table has\", num_farmers_markets_rows, \"rows in it!\")"
      ]
    },
    {
      "cell_type": "markdown",
      "metadata": {
        "id": "oFVeD2GbQn-s"
      },
      "source": [
        "### `select`\n",
        "\n",
        "Większość kolumn dotyczy konkretnych produktów – czy na rynku sprzedaje się tofu, karmę dla zwierząt itp. Jeśli nie interesują nas te informacje, po prostu utrudniają one czytanie tabeli. To pojawia się częściej, niż mogłoby się wydawać, ponieważ ludzie, którzy zbierają i publikują dane, mogą nie wiedzieć z wyprzedzeniem, co ludzie będą chcieli z nimi zrobić.\n",
        "\n",
        "W takich sytuacjach możemy użyć metody tabeli `select`, aby wybrać tylko te kolumny, które chcemy w danej tabeli. Pobiera dowolną liczbę argumentów. Każda powinna być nazwą kolumny w tabeli. Zwraca nową tabelę zawierającą tylko te kolumny. Kolumny są w kolejności *w jakiej zostały wymienione jako argumenty*.\n",
        "\n",
        "Na przykład wartość `farmers_markets.select(\"MarketName\", \"State\")` to tabela zawierająca tylko nazwę i stan każdego rynku rolników w `farmers_markets`.\n",
        "\n",
        "**Pytanie 3.3.** Użyj `select` by utworzyć tabelę zawierającą tylko: name, city, state, latitude (`y`), and longitude (`x`) każdego z rynków.  Nazwij nową tabelę `farmers_markets_locations`.\n",
        "\n",
        "*Wskazówka:* Upewnij się, że używasz nazw kolumn z `select`; dokładnie sprawdź wielkość liter!\n",
        "\n",
        "<!--\n",
        "BEGIN QUESTION\n",
        "name: q33\n",
        "-->"
      ]
    },
    {
      "cell_type": "code",
      "execution_count": 27,
      "metadata": {
        "id": "BXVT7JxJQn-s",
        "colab": {
          "base_uri": "https://localhost:8080/",
          "height": 392
        },
        "outputId": "b5fec295-7539-40cd-8e35-50854aad1d36"
      },
      "outputs": [
        {
          "output_type": "execute_result",
          "data": {
            "text/html": [
              "<table border=\"1\" class=\"dataframe\">\n",
              "    <thead>\n",
              "        <tr>\n",
              "            <th>MarketName</th> <th>city</th> <th>State</th> <th>x</th> <th>y</th>\n",
              "        </tr>\n",
              "    </thead>\n",
              "    <tbody>\n",
              "        <tr>\n",
              "            <td> Caledonia Farmers Market Association - Danville</td> <td>Danville  </td> <td>Vermont             </td> <td>-72.1403</td> <td>44.411 </td>\n",
              "        </tr>\n",
              "        <tr>\n",
              "            <td> Stearns Homestead Farmers' Market              </td> <td>Parma     </td> <td>Ohio                </td> <td>-81.7286</td> <td>41.3751</td>\n",
              "        </tr>\n",
              "        <tr>\n",
              "            <td>100 Mile Market                                 </td> <td>Kalamazoo </td> <td>Michigan            </td> <td>-85.5749</td> <td>42.296 </td>\n",
              "        </tr>\n",
              "        <tr>\n",
              "            <td>106 S. Main Street Farmers Market               </td> <td>Six Mile  </td> <td>South Carolina      </td> <td>-82.8187</td> <td>34.8042</td>\n",
              "        </tr>\n",
              "        <tr>\n",
              "            <td>10th Steet Community Farmers Market             </td> <td>Lamar     </td> <td>Missouri            </td> <td>-94.2746</td> <td>37.4956</td>\n",
              "        </tr>\n",
              "        <tr>\n",
              "            <td>112st Madison Avenue                            </td> <td>New York  </td> <td>New York            </td> <td>-73.9493</td> <td>40.7939</td>\n",
              "        </tr>\n",
              "        <tr>\n",
              "            <td>12 South Farmers Market                         </td> <td>Nashville </td> <td>Tennessee           </td> <td>-86.7907</td> <td>36.1184</td>\n",
              "        </tr>\n",
              "        <tr>\n",
              "            <td>125th Street Fresh Connect Farmers' Market      </td> <td>New York  </td> <td>New York            </td> <td>-73.9482</td> <td>40.809 </td>\n",
              "        </tr>\n",
              "        <tr>\n",
              "            <td>12th & Brandywine Urban Farm Market             </td> <td>Wilmington</td> <td>Delaware            </td> <td>-75.5345</td> <td>39.7421</td>\n",
              "        </tr>\n",
              "        <tr>\n",
              "            <td>14&U Farmers' Market                            </td> <td>Washington</td> <td>District of Columbia</td> <td>-77.0321</td> <td>38.917 </td>\n",
              "        </tr>\n",
              "    </tbody>\n",
              "</table>\n",
              "<p>... (8536 rows omitted)</p>"
            ],
            "text/plain": [
              "MarketName                                       | city       | State                | x        | y\n",
              " Caledonia Farmers Market Association - Danville | Danville   | Vermont              | -72.1403 | 44.411\n",
              " Stearns Homestead Farmers' Market               | Parma      | Ohio                 | -81.7286 | 41.3751\n",
              "100 Mile Market                                  | Kalamazoo  | Michigan             | -85.5749 | 42.296\n",
              "106 S. Main Street Farmers Market                | Six Mile   | South Carolina       | -82.8187 | 34.8042\n",
              "10th Steet Community Farmers Market              | Lamar      | Missouri             | -94.2746 | 37.4956\n",
              "112st Madison Avenue                             | New York   | New York             | -73.9493 | 40.7939\n",
              "12 South Farmers Market                          | Nashville  | Tennessee            | -86.7907 | 36.1184\n",
              "125th Street Fresh Connect Farmers' Market       | New York   | New York             | -73.9482 | 40.809\n",
              "12th & Brandywine Urban Farm Market              | Wilmington | Delaware             | -75.5345 | 39.7421\n",
              "14&U Farmers' Market                             | Washington | District of Columbia | -77.0321 | 38.917\n",
              "... (8536 rows omitted)"
            ]
          },
          "metadata": {},
          "execution_count": 27
        }
      ],
      "source": [
        "farmers_markets_locations = farmers_markets.select(\"MarketName\", \"city\", \"State\", \"x\", \"y\")\n",
        "farmers_markets_locations"
      ]
    },
    {
      "cell_type": "markdown",
      "metadata": {
        "id": "7IPXbCoBQn-s"
      },
      "source": [
        "### `drop`\n",
        "\n",
        "`drop` służy temu samemu celowi co `select`, ale usuwa kolumny, które podajesz, a nie te, których nie podajesz. Podobnie jak `select`, `drop` zwraca nową tabelę.\n",
        "\n",
        "**Pytanie 3.4.** Załóżmy, że po prostu nie chcesz używać kolumn `FMID` i `updateTime` w `farmers_markets`. Utwórz tabelę, która jest kopią `farmers_markets`, ale nie zawiera tych kolumn. Nazwij tę tabelę `farmers_markets_without_fmid`.\n",
        "\n",
        "<!--\n",
        "BEGIN QUESTION\n",
        "name: q34\n",
        "-->"
      ]
    },
    {
      "cell_type": "code",
      "execution_count": 29,
      "metadata": {
        "id": "fCigP-8jQn-s",
        "colab": {
          "base_uri": "https://localhost:8080/",
          "height": 968
        },
        "outputId": "8f86be61-74d1-4ea9-d51b-ee4600169dbe"
      },
      "outputs": [
        {
          "output_type": "execute_result",
          "data": {
            "text/html": [
              "<table border=\"1\" class=\"dataframe\">\n",
              "    <thead>\n",
              "        <tr>\n",
              "            <th>MarketName</th> <th>street</th> <th>city</th> <th>County</th> <th>State</th> <th>zip</th> <th>x</th> <th>y</th> <th>Website</th> <th>Facebook</th> <th>Twitter</th> <th>Youtube</th> <th>OtherMedia</th> <th>Organic</th> <th>Tofu</th> <th>Bakedgoods</th> <th>Cheese</th> <th>Crafts</th> <th>Flowers</th> <th>Eggs</th> <th>Seafood</th> <th>Herbs</th> <th>Vegetables</th> <th>Honey</th> <th>Jams</th> <th>Maple</th> <th>Meat</th> <th>Nursery</th> <th>Nuts</th> <th>Plants</th> <th>Poultry</th> <th>Prepared</th> <th>Soap</th> <th>Trees</th> <th>Wine</th> <th>Coffee</th> <th>Beans</th> <th>Fruits</th> <th>Grains</th> <th>Juices</th> <th>Mushrooms</th> <th>PetFood</th> <th>WildHarvested</th> <th>Location</th> <th>Credit</th> <th>WIC</th> <th>WICcash</th> <th>SFMNP</th> <th>SNAP</th> <th>Season1Date</th> <th>Season1Time</th> <th>Season2Date</th> <th>Season2Time</th> <th>Season3Date</th> <th>Season3Time</th> <th>Season4Date</th> <th>Season4Time</th>\n",
              "        </tr>\n",
              "    </thead>\n",
              "    <tbody>\n",
              "        <tr>\n",
              "            <td> Caledonia Farmers Market Association - Danville</td> <td>nan                                                     </td> <td>Danville  </td> <td>Caledonia           </td> <td>Vermont             </td> <td>05828</td> <td>-72.1403</td> <td>44.411 </td> <td>https://sites.google.com/site/caledoniafarmersmarket/</td> <td>https://www.facebook.com/Danville.VT.Farmers.Market/        </td> <td>nan                                </td> <td>nan    </td> <td>nan                                                         </td> <td>Y      </td> <td>N   </td> <td>Y         </td> <td>Y     </td> <td>Y     </td> <td>Y      </td> <td>Y   </td> <td>N      </td> <td>Y    </td> <td>Y         </td> <td>Y    </td> <td>Y   </td> <td>Y    </td> <td>Y   </td> <td>N      </td> <td>N   </td> <td>Y     </td> <td>Y      </td> <td>Y       </td> <td>Y   </td> <td>Y    </td> <td>N   </td> <td>Y     </td> <td>Y    </td> <td>Y     </td> <td>N     </td> <td>Y     </td> <td>N        </td> <td>Y      </td> <td>N            </td> <td>nan                                                       </td> <td>Y     </td> <td>Y   </td> <td>N      </td> <td>Y    </td> <td>N   </td> <td>06/08/2016 to 10/12/2016</td> <td>Wed: 9:00 AM-1:00 PM;                       </td> <td>nan        </td> <td>nan        </td> <td>nan        </td> <td>nan        </td> <td>nan        </td> <td>nan        </td>\n",
              "        </tr>\n",
              "        <tr>\n",
              "            <td> Stearns Homestead Farmers' Market              </td> <td>6975 Ridge Road                                         </td> <td>Parma     </td> <td>Cuyahoga            </td> <td>Ohio                </td> <td>44130</td> <td>-81.7286</td> <td>41.3751</td> <td>http://Stearnshomestead.com                          </td> <td>nan                                                         </td> <td>nan                                </td> <td>nan    </td> <td>nan                                                         </td> <td>-      </td> <td>N   </td> <td>Y         </td> <td>N     </td> <td>N     </td> <td>Y      </td> <td>Y   </td> <td>N      </td> <td>Y    </td> <td>Y         </td> <td>Y    </td> <td>Y   </td> <td>Y    </td> <td>Y   </td> <td>N      </td> <td>N   </td> <td>Y     </td> <td>N      </td> <td>N       </td> <td>N   </td> <td>N    </td> <td>N   </td> <td>N     </td> <td>N    </td> <td>Y     </td> <td>N     </td> <td>N     </td> <td>N        </td> <td>Y      </td> <td>N            </td> <td>nan                                                       </td> <td>Y     </td> <td>Y   </td> <td>N      </td> <td>Y    </td> <td>Y   </td> <td>06/25/2016 to 10/01/2016</td> <td>Sat: 9:00 AM-1:00 PM;                       </td> <td>nan        </td> <td>nan        </td> <td>nan        </td> <td>nan        </td> <td>nan        </td> <td>nan        </td>\n",
              "        </tr>\n",
              "        <tr>\n",
              "            <td>100 Mile Market                                 </td> <td>507 Harrison St                                         </td> <td>Kalamazoo </td> <td>Kalamazoo           </td> <td>Michigan            </td> <td>49007</td> <td>-85.5749</td> <td>42.296 </td> <td>http://www.pfcmarkets.com                            </td> <td>https://www.facebook.com/100MileMarket/?fref=ts             </td> <td>nan                                </td> <td>nan    </td> <td>https://www.instagram.com/100milemarket/                    </td> <td>N      </td> <td>N   </td> <td>Y         </td> <td>Y     </td> <td>N     </td> <td>Y      </td> <td>Y   </td> <td>N      </td> <td>Y    </td> <td>Y         </td> <td>Y    </td> <td>Y   </td> <td>Y    </td> <td>Y   </td> <td>N      </td> <td>N   </td> <td>N     </td> <td>Y      </td> <td>Y       </td> <td>Y   </td> <td>N    </td> <td>Y   </td> <td>N     </td> <td>N    </td> <td>Y     </td> <td>Y     </td> <td>N     </td> <td>N        </td> <td>N      </td> <td>N            </td> <td>nan                                                       </td> <td>Y     </td> <td>Y   </td> <td>N      </td> <td>Y    </td> <td>Y   </td> <td>05/04/2016 to 10/12/2016</td> <td>Wed: 3:00 PM-7:00 PM;                       </td> <td>nan        </td> <td>nan        </td> <td>nan        </td> <td>nan        </td> <td>nan        </td> <td>nan        </td>\n",
              "        </tr>\n",
              "        <tr>\n",
              "            <td>106 S. Main Street Farmers Market               </td> <td>106 S. Main Street                                      </td> <td>Six Mile  </td> <td>nan                 </td> <td>South Carolina      </td> <td>29682</td> <td>-82.8187</td> <td>34.8042</td> <td>http://thetownofsixmile.wordpress.com/               </td> <td>nan                                                         </td> <td>nan                                </td> <td>nan    </td> <td>nan                                                         </td> <td>-      </td> <td>N   </td> <td>N         </td> <td>N     </td> <td>N     </td> <td>N      </td> <td>N   </td> <td>N      </td> <td>N    </td> <td>N         </td> <td>N    </td> <td>N   </td> <td>N    </td> <td>N   </td> <td>N      </td> <td>N   </td> <td>N     </td> <td>N      </td> <td>N       </td> <td>N   </td> <td>N    </td> <td>N   </td> <td>N     </td> <td>N    </td> <td>N     </td> <td>N     </td> <td>N     </td> <td>N        </td> <td>N      </td> <td>N            </td> <td>nan                                                       </td> <td>Y     </td> <td>N   </td> <td>N      </td> <td>N    </td> <td>N   </td> <td>nan                     </td> <td>nan                                         </td> <td>nan        </td> <td>nan        </td> <td>nan        </td> <td>nan        </td> <td>nan        </td> <td>nan        </td>\n",
              "        </tr>\n",
              "        <tr>\n",
              "            <td>10th Steet Community Farmers Market             </td> <td>10th Street and Poplar                                  </td> <td>Lamar     </td> <td>Barton              </td> <td>Missouri            </td> <td>64759</td> <td>-94.2746</td> <td>37.4956</td> <td>nan                                                  </td> <td>nan                                                         </td> <td>nan                                </td> <td>nan    </td> <td>http://agrimissouri.com/mo-grown/grodetail.php?type=mo-g ...</td> <td>-      </td> <td>N   </td> <td>Y         </td> <td>N     </td> <td>Y     </td> <td>N      </td> <td>Y   </td> <td>N      </td> <td>Y    </td> <td>Y         </td> <td>Y    </td> <td>Y   </td> <td>N    </td> <td>Y   </td> <td>N      </td> <td>N   </td> <td>Y     </td> <td>Y      </td> <td>Y       </td> <td>Y   </td> <td>N    </td> <td>N   </td> <td>N     </td> <td>N    </td> <td>Y     </td> <td>N     </td> <td>N     </td> <td>N        </td> <td>N      </td> <td>N            </td> <td>nan                                                       </td> <td>Y     </td> <td>N   </td> <td>N      </td> <td>N    </td> <td>N   </td> <td>04/02/2014 to 11/30/2014</td> <td>Wed: 3:00 PM-6:00 PM;Sat: 8:00 AM-1:00 PM;  </td> <td>nan        </td> <td>nan        </td> <td>nan        </td> <td>nan        </td> <td>nan        </td> <td>nan        </td>\n",
              "        </tr>\n",
              "        <tr>\n",
              "            <td>112st Madison Avenue                            </td> <td>112th Madison Avenue                                    </td> <td>New York  </td> <td>New York            </td> <td>New York            </td> <td>10029</td> <td>-73.9493</td> <td>40.7939</td> <td>nan                                                  </td> <td>nan                                                         </td> <td>nan                                </td> <td>nan    </td> <td>nan                                                         </td> <td>-      </td> <td>N   </td> <td>Y         </td> <td>N     </td> <td>Y     </td> <td>Y      </td> <td>N   </td> <td>N      </td> <td>Y    </td> <td>Y         </td> <td>Y    </td> <td>Y   </td> <td>N    </td> <td>N   </td> <td>N      </td> <td>Y   </td> <td>N     </td> <td>N      </td> <td>Y       </td> <td>Y   </td> <td>N    </td> <td>N   </td> <td>N     </td> <td>N    </td> <td>N     </td> <td>N     </td> <td>N     </td> <td>N        </td> <td>N      </td> <td>N            </td> <td>Private business parking lot                              </td> <td>N     </td> <td>N   </td> <td>Y      </td> <td>Y    </td> <td>N   </td> <td>July to November        </td> <td>Tue:8:00 am - 5:00 pm;Sat:8:00 am - 8:00 pm;</td> <td>nan        </td> <td>nan        </td> <td>nan        </td> <td>nan        </td> <td>nan        </td> <td>nan        </td>\n",
              "        </tr>\n",
              "        <tr>\n",
              "            <td>12 South Farmers Market                         </td> <td>3000 Granny White Pike                                  </td> <td>Nashville </td> <td>Davidson            </td> <td>Tennessee           </td> <td>37204</td> <td>-86.7907</td> <td>36.1184</td> <td>http://www.12southfarmersmarket.com                  </td> <td>12_South_Farmers_Market                                     </td> <td>@12southfrmsmkt                    </td> <td>nan    </td> <td>@12southfrmsmkt                                             </td> <td>Y      </td> <td>N   </td> <td>Y         </td> <td>Y     </td> <td>N     </td> <td>Y      </td> <td>Y   </td> <td>N      </td> <td>Y    </td> <td>Y         </td> <td>Y    </td> <td>Y   </td> <td>Y    </td> <td>Y   </td> <td>N      </td> <td>N   </td> <td>N     </td> <td>Y      </td> <td>Y       </td> <td>Y   </td> <td>N    </td> <td>N   </td> <td>Y     </td> <td>N    </td> <td>Y     </td> <td>N     </td> <td>Y     </td> <td>Y        </td> <td>Y      </td> <td>N            </td> <td>nan                                                       </td> <td>Y     </td> <td>N   </td> <td>N      </td> <td>N    </td> <td>Y   </td> <td>05/05/2015 to 10/27/2015</td> <td>Tue: 3:30 PM-6:30 PM;                       </td> <td>nan        </td> <td>nan        </td> <td>nan        </td> <td>nan        </td> <td>nan        </td> <td>nan        </td>\n",
              "        </tr>\n",
              "        <tr>\n",
              "            <td>125th Street Fresh Connect Farmers' Market      </td> <td>163 West 125th Street and Adam Clayton Powell, Jr. Blvd.</td> <td>New York  </td> <td>New York            </td> <td>New York            </td> <td>10027</td> <td>-73.9482</td> <td>40.809 </td> <td>http://www.125thStreetFarmersMarket.com              </td> <td>https://www.facebook.com/125thStreetFarmersMarket           </td> <td>https://twitter.com/FarmMarket125th</td> <td>nan    </td> <td>Instagram--> 125thStreetFarmersMarket                       </td> <td>Y      </td> <td>N   </td> <td>Y         </td> <td>Y     </td> <td>Y     </td> <td>Y      </td> <td>Y   </td> <td>N      </td> <td>Y    </td> <td>Y         </td> <td>Y    </td> <td>Y   </td> <td>Y    </td> <td>Y   </td> <td>N      </td> <td>Y   </td> <td>N     </td> <td>Y      </td> <td>Y       </td> <td>Y   </td> <td>N    </td> <td>Y   </td> <td>Y     </td> <td>N    </td> <td>Y     </td> <td>N     </td> <td>Y     </td> <td>N        </td> <td>N      </td> <td>N            </td> <td>Federal/State government building grounds                 </td> <td>Y     </td> <td>Y   </td> <td>N      </td> <td>Y    </td> <td>Y   </td> <td>06/10/2014 to 11/25/2014</td> <td>Tue: 10:00 AM-7:00 PM;                      </td> <td>nan        </td> <td>nan        </td> <td>nan        </td> <td>nan        </td> <td>nan        </td> <td>nan        </td>\n",
              "        </tr>\n",
              "        <tr>\n",
              "            <td>12th & Brandywine Urban Farm Market             </td> <td>12th & Brandywine Streets                               </td> <td>Wilmington</td> <td>New Castle          </td> <td>Delaware            </td> <td>19801</td> <td>-75.5345</td> <td>39.7421</td> <td>nan                                                  </td> <td>https://www.facebook.com/pages/12th-Brandywine-Urban-Far ...</td> <td>nan                                </td> <td>nan    </td> <td>https://www.facebook.com/delawareurbanfarmcoalition         </td> <td>N      </td> <td>N   </td> <td>N         </td> <td>N     </td> <td>N     </td> <td>N      </td> <td>N   </td> <td>N      </td> <td>Y    </td> <td>Y         </td> <td>N    </td> <td>N   </td> <td>N    </td> <td>N   </td> <td>N      </td> <td>N   </td> <td>N     </td> <td>N      </td> <td>N       </td> <td>N   </td> <td>N    </td> <td>N   </td> <td>N     </td> <td>N    </td> <td>Y     </td> <td>N     </td> <td>N     </td> <td>N        </td> <td>N      </td> <td>N            </td> <td>On a farm from: a barn, a greenhouse, a tent, a stand, etc</td> <td>N     </td> <td>N   </td> <td>N      </td> <td>N    </td> <td>Y   </td> <td>05/16/2014 to 10/17/2014</td> <td>Fri: 8:00 AM-11:00 AM;                      </td> <td>nan        </td> <td>nan        </td> <td>nan        </td> <td>nan        </td> <td>nan        </td> <td>nan        </td>\n",
              "        </tr>\n",
              "        <tr>\n",
              "            <td>14&U Farmers' Market                            </td> <td>1400 U Street NW                                        </td> <td>Washington</td> <td>District of Columbia</td> <td>District of Columbia</td> <td>20009</td> <td>-77.0321</td> <td>38.917 </td> <td>nan                                                  </td> <td>https://www.facebook.com/14UFarmersMarket                   </td> <td>https://twitter.com/14UFarmersMkt  </td> <td>nan    </td> <td>nan                                                         </td> <td>Y      </td> <td>N   </td> <td>Y         </td> <td>Y     </td> <td>N     </td> <td>Y      </td> <td>Y   </td> <td>N      </td> <td>Y    </td> <td>Y         </td> <td>Y    </td> <td>Y   </td> <td>N    </td> <td>Y   </td> <td>N      </td> <td>Y   </td> <td>Y     </td> <td>Y      </td> <td>N       </td> <td>N   </td> <td>N    </td> <td>N   </td> <td>N     </td> <td>Y    </td> <td>Y     </td> <td>Y     </td> <td>Y     </td> <td>N        </td> <td>N      </td> <td>N            </td> <td>Other                                                     </td> <td>Y     </td> <td>Y   </td> <td>Y      </td> <td>Y    </td> <td>Y   </td> <td>05/03/2014 to 11/22/2014</td> <td>Sat: 9:00 AM-1:00 PM;                       </td> <td>nan        </td> <td>nan        </td> <td>nan        </td> <td>nan        </td> <td>nan        </td> <td>nan        </td>\n",
              "        </tr>\n",
              "    </tbody>\n",
              "</table>\n",
              "<p>... (8536 rows omitted)</p>"
            ],
            "text/plain": [
              "MarketName                                       | street                                                   | city       | County               | State                | zip   | x        | y       | Website                                               | Facebook                                                     | Twitter                             | Youtube | OtherMedia                                                   | Organic | Tofu | Bakedgoods | Cheese | Crafts | Flowers | Eggs | Seafood | Herbs | Vegetables | Honey | Jams | Maple | Meat | Nursery | Nuts | Plants | Poultry | Prepared | Soap | Trees | Wine | Coffee | Beans | Fruits | Grains | Juices | Mushrooms | PetFood | WildHarvested | Location                                                   | Credit | WIC  | WICcash | SFMNP | SNAP | Season1Date              | Season1Time                                  | Season2Date | Season2Time | Season3Date | Season3Time | Season4Date | Season4Time\n",
              " Caledonia Farmers Market Association - Danville | nan                                                      | Danville   | Caledonia            | Vermont              | 05828 | -72.1403 | 44.411  | https://sites.google.com/site/caledoniafarmersmarket/ | https://www.facebook.com/Danville.VT.Farmers.Market/         | nan                                 | nan     | nan                                                          | Y       | N    | Y          | Y      | Y      | Y       | Y    | N       | Y     | Y          | Y     | Y    | Y     | Y    | N       | N    | Y      | Y       | Y        | Y    | Y     | N    | Y      | Y     | Y      | N      | Y      | N         | Y       | N             | nan                                                        | Y      | Y    | N       | Y     | N    | 06/08/2016 to 10/12/2016 | Wed: 9:00 AM-1:00 PM;                        | nan         | nan         | nan         | nan         | nan         | nan\n",
              " Stearns Homestead Farmers' Market               | 6975 Ridge Road                                          | Parma      | Cuyahoga             | Ohio                 | 44130 | -81.7286 | 41.3751 | http://Stearnshomestead.com                           | nan                                                          | nan                                 | nan     | nan                                                          | -       | N    | Y          | N      | N      | Y       | Y    | N       | Y     | Y          | Y     | Y    | Y     | Y    | N       | N    | Y      | N       | N        | N    | N     | N    | N      | N     | Y      | N      | N      | N         | Y       | N             | nan                                                        | Y      | Y    | N       | Y     | Y    | 06/25/2016 to 10/01/2016 | Sat: 9:00 AM-1:00 PM;                        | nan         | nan         | nan         | nan         | nan         | nan\n",
              "100 Mile Market                                  | 507 Harrison St                                          | Kalamazoo  | Kalamazoo            | Michigan             | 49007 | -85.5749 | 42.296  | http://www.pfcmarkets.com                             | https://www.facebook.com/100MileMarket/?fref=ts              | nan                                 | nan     | https://www.instagram.com/100milemarket/                     | N       | N    | Y          | Y      | N      | Y       | Y    | N       | Y     | Y          | Y     | Y    | Y     | Y    | N       | N    | N      | Y       | Y        | Y    | N     | Y    | N      | N     | Y      | Y      | N      | N         | N       | N             | nan                                                        | Y      | Y    | N       | Y     | Y    | 05/04/2016 to 10/12/2016 | Wed: 3:00 PM-7:00 PM;                        | nan         | nan         | nan         | nan         | nan         | nan\n",
              "106 S. Main Street Farmers Market                | 106 S. Main Street                                       | Six Mile   | nan                  | South Carolina       | 29682 | -82.8187 | 34.8042 | http://thetownofsixmile.wordpress.com/                | nan                                                          | nan                                 | nan     | nan                                                          | -       | N    | N          | N      | N      | N       | N    | N       | N     | N          | N     | N    | N     | N    | N       | N    | N      | N       | N        | N    | N     | N    | N      | N     | N      | N      | N      | N         | N       | N             | nan                                                        | Y      | N    | N       | N     | N    | nan                      | nan                                          | nan         | nan         | nan         | nan         | nan         | nan\n",
              "10th Steet Community Farmers Market              | 10th Street and Poplar                                   | Lamar      | Barton               | Missouri             | 64759 | -94.2746 | 37.4956 | nan                                                   | nan                                                          | nan                                 | nan     | http://agrimissouri.com/mo-grown/grodetail.php?type=mo-g ... | -       | N    | Y          | N      | Y      | N       | Y    | N       | Y     | Y          | Y     | Y    | N     | Y    | N       | N    | Y      | Y       | Y        | Y    | N     | N    | N      | N     | Y      | N      | N      | N         | N       | N             | nan                                                        | Y      | N    | N       | N     | N    | 04/02/2014 to 11/30/2014 | Wed: 3:00 PM-6:00 PM;Sat: 8:00 AM-1:00 PM;   | nan         | nan         | nan         | nan         | nan         | nan\n",
              "112st Madison Avenue                             | 112th Madison Avenue                                     | New York   | New York             | New York             | 10029 | -73.9493 | 40.7939 | nan                                                   | nan                                                          | nan                                 | nan     | nan                                                          | -       | N    | Y          | N      | Y      | Y       | N    | N       | Y     | Y          | Y     | Y    | N     | N    | N       | Y    | N      | N       | Y        | Y    | N     | N    | N      | N     | N      | N      | N      | N         | N       | N             | Private business parking lot                               | N      | N    | Y       | Y     | N    | July to November         | Tue:8:00 am - 5:00 pm;Sat:8:00 am - 8:00 pm; | nan         | nan         | nan         | nan         | nan         | nan\n",
              "12 South Farmers Market                          | 3000 Granny White Pike                                   | Nashville  | Davidson             | Tennessee            | 37204 | -86.7907 | 36.1184 | http://www.12southfarmersmarket.com                   | 12_South_Farmers_Market                                      | @12southfrmsmkt                     | nan     | @12southfrmsmkt                                              | Y       | N    | Y          | Y      | N      | Y       | Y    | N       | Y     | Y          | Y     | Y    | Y     | Y    | N       | N    | N      | Y       | Y        | Y    | N     | N    | Y      | N     | Y      | N      | Y      | Y         | Y       | N             | nan                                                        | Y      | N    | N       | N     | Y    | 05/05/2015 to 10/27/2015 | Tue: 3:30 PM-6:30 PM;                        | nan         | nan         | nan         | nan         | nan         | nan\n",
              "125th Street Fresh Connect Farmers' Market       | 163 West 125th Street and Adam Clayton Powell, Jr. Blvd. | New York   | New York             | New York             | 10027 | -73.9482 | 40.809  | http://www.125thStreetFarmersMarket.com               | https://www.facebook.com/125thStreetFarmersMarket            | https://twitter.com/FarmMarket125th | nan     | Instagram--> 125thStreetFarmersMarket                        | Y       | N    | Y          | Y      | Y      | Y       | Y    | N       | Y     | Y          | Y     | Y    | Y     | Y    | N       | Y    | N      | Y       | Y        | Y    | N     | Y    | Y      | N     | Y      | N      | Y      | N         | N       | N             | Federal/State government building grounds                  | Y      | Y    | N       | Y     | Y    | 06/10/2014 to 11/25/2014 | Tue: 10:00 AM-7:00 PM;                       | nan         | nan         | nan         | nan         | nan         | nan\n",
              "12th & Brandywine Urban Farm Market              | 12th & Brandywine Streets                                | Wilmington | New Castle           | Delaware             | 19801 | -75.5345 | 39.7421 | nan                                                   | https://www.facebook.com/pages/12th-Brandywine-Urban-Far ... | nan                                 | nan     | https://www.facebook.com/delawareurbanfarmcoalition          | N       | N    | N          | N      | N      | N       | N    | N       | Y     | Y          | N     | N    | N     | N    | N       | N    | N      | N       | N        | N    | N     | N    | N      | N     | Y      | N      | N      | N         | N       | N             | On a farm from: a barn, a greenhouse, a tent, a stand, etc | N      | N    | N       | N     | Y    | 05/16/2014 to 10/17/2014 | Fri: 8:00 AM-11:00 AM;                       | nan         | nan         | nan         | nan         | nan         | nan\n",
              "14&U Farmers' Market                             | 1400 U Street NW                                         | Washington | District of Columbia | District of Columbia | 20009 | -77.0321 | 38.917  | nan                                                   | https://www.facebook.com/14UFarmersMarket                    | https://twitter.com/14UFarmersMkt   | nan     | nan                                                          | Y       | N    | Y          | Y      | N      | Y       | Y    | N       | Y     | Y          | Y     | Y    | N     | Y    | N       | Y    | Y      | Y       | N        | N    | N     | N    | N      | Y     | Y      | Y      | Y      | N         | N       | N             | Other                                                      | Y      | Y    | Y       | Y     | Y    | 05/03/2014 to 11/22/2014 | Sat: 9:00 AM-1:00 PM;                        | nan         | nan         | nan         | nan         | nan         | nan\n",
              "... (8536 rows omitted)"
            ]
          },
          "metadata": {},
          "execution_count": 29
        }
      ],
      "source": [
        "farmers_markets_without_fmid = farmers_markets\n",
        "farmers_markets_without_fmid = farmers_markets_without_fmid.drop(\"updateTime\", \"FMID\")\n",
        "farmers_markets_without_fmid"
      ]
    },
    {
      "cell_type": "markdown",
      "metadata": {
        "id": "MXxYNsMIQn-s"
      },
      "source": [
        "Załóżmy teraz, że chcemy odpowiedzieć na kilka pytań dotyczących rynków rolników w USA. Na przykład, który rynek (rynki) ma największą długość geograficzną -  podaną w kolumnie `x`)?\n",
        "\n",
        "Aby odpowiedzieć na to pytanie, posortujemy `farmers_markets_locations` według długości geograficznej.\n",
        "\n"
      ]
    },
    {
      "cell_type": "code",
      "execution_count": 30,
      "metadata": {
        "id": "kvAVxvq7Qn-s",
        "colab": {
          "base_uri": "https://localhost:8080/",
          "height": 392
        },
        "outputId": "629cae15-a06e-47ea-afda-52f16ee44687"
      },
      "outputs": [
        {
          "output_type": "execute_result",
          "data": {
            "text/html": [
              "<table border=\"1\" class=\"dataframe\">\n",
              "    <thead>\n",
              "        <tr>\n",
              "            <th>MarketName</th> <th>city</th> <th>State</th> <th>x</th> <th>y</th>\n",
              "        </tr>\n",
              "    </thead>\n",
              "    <tbody>\n",
              "        <tr>\n",
              "            <td>Trapper Creek Farmers Market                  </td> <td>Trapper Creek</td> <td>Alaska</td> <td>-166.54 </td> <td>53.8748</td>\n",
              "        </tr>\n",
              "        <tr>\n",
              "            <td>Kekaha Neighborhood Center (Sunshine Markets) </td> <td>Kekaha       </td> <td>Hawaii</td> <td>-159.718</td> <td>21.9704</td>\n",
              "        </tr>\n",
              "        <tr>\n",
              "            <td>Hanapepe Park (Sunshine Markets)              </td> <td>Hanapepe     </td> <td>Hawaii</td> <td>-159.588</td> <td>21.9101</td>\n",
              "        </tr>\n",
              "        <tr>\n",
              "            <td>Kalaheo Neighborhood Center (Sunshine Markets)</td> <td>Kalaheo      </td> <td>Hawaii</td> <td>-159.527</td> <td>21.9251</td>\n",
              "        </tr>\n",
              "        <tr>\n",
              "            <td>Hawaiian Farmers of Hanalei                   </td> <td>Hanalei      </td> <td>Hawaii</td> <td>-159.514</td> <td>22.2033</td>\n",
              "        </tr>\n",
              "        <tr>\n",
              "            <td>Hanalei Saturday Farmers Market               </td> <td>Hanalei      </td> <td>Hawaii</td> <td>-159.492</td> <td>22.2042</td>\n",
              "        </tr>\n",
              "        <tr>\n",
              "            <td>Kauai Culinary Market                         </td> <td>Koloa        </td> <td>Hawaii</td> <td>-159.469</td> <td>21.9067</td>\n",
              "        </tr>\n",
              "        <tr>\n",
              "            <td>Koloa Ball Park (Knudsen) (Sunshine Markets)  </td> <td>Koloa        </td> <td>Hawaii</td> <td>-159.465</td> <td>21.9081</td>\n",
              "        </tr>\n",
              "        <tr>\n",
              "            <td>West Kauai Agricultural Association           </td> <td>Poipu        </td> <td>Hawaii</td> <td>-159.435</td> <td>21.8815</td>\n",
              "        </tr>\n",
              "        <tr>\n",
              "            <td>Kilauea Neighborhood Center (Sunshine Markets)</td> <td>Kilauea      </td> <td>Hawaii</td> <td>-159.406</td> <td>22.2112</td>\n",
              "        </tr>\n",
              "    </tbody>\n",
              "</table>\n",
              "<p>... (8536 rows omitted)</p>"
            ],
            "text/plain": [
              "MarketName                                     | city          | State  | x        | y\n",
              "Trapper Creek Farmers Market                   | Trapper Creek | Alaska | -166.54  | 53.8748\n",
              "Kekaha Neighborhood Center (Sunshine Markets)  | Kekaha        | Hawaii | -159.718 | 21.9704\n",
              "Hanapepe Park (Sunshine Markets)               | Hanapepe      | Hawaii | -159.588 | 21.9101\n",
              "Kalaheo Neighborhood Center (Sunshine Markets) | Kalaheo       | Hawaii | -159.527 | 21.9251\n",
              "Hawaiian Farmers of Hanalei                    | Hanalei       | Hawaii | -159.514 | 22.2033\n",
              "Hanalei Saturday Farmers Market                | Hanalei       | Hawaii | -159.492 | 22.2042\n",
              "Kauai Culinary Market                          | Koloa         | Hawaii | -159.469 | 21.9067\n",
              "Koloa Ball Park (Knudsen) (Sunshine Markets)   | Koloa         | Hawaii | -159.465 | 21.9081\n",
              "West Kauai Agricultural Association            | Poipu         | Hawaii | -159.435 | 21.8815\n",
              "Kilauea Neighborhood Center (Sunshine Markets) | Kilauea       | Hawaii | -159.406 | 22.2112\n",
              "... (8536 rows omitted)"
            ]
          },
          "metadata": {},
          "execution_count": 30
        }
      ],
      "source": [
        "farmers_markets_locations.sort('x')"
      ]
    },
    {
      "cell_type": "markdown",
      "metadata": {
        "id": "jSyLdLGZQn-s"
      },
      "source": [
        "Ups, to nie dało odpowiedzi na nasze pytanie, ponieważ posortowaliśmy od najmniejszej do największej długości geograficznej. Aby spojrzeć na największe długości geograficzne, trzeba posortować w odwrotnej kolejności.\n"
      ]
    },
    {
      "cell_type": "code",
      "execution_count": 31,
      "metadata": {
        "id": "60As5JwEQn-s",
        "colab": {
          "base_uri": "https://localhost:8080/",
          "height": 392
        },
        "outputId": "e1314627-695c-4bb1-b5df-bd4f18e4b55c"
      },
      "outputs": [
        {
          "output_type": "execute_result",
          "data": {
            "text/html": [
              "<table border=\"1\" class=\"dataframe\">\n",
              "    <thead>\n",
              "        <tr>\n",
              "            <th>MarketName</th> <th>city</th> <th>State</th> <th>x</th> <th>y</th>\n",
              "        </tr>\n",
              "    </thead>\n",
              "    <tbody>\n",
              "        <tr>\n",
              "            <td>Christian \"Shan\" Hendricks Vegetable Market</td> <td>Saint Croix       </td> <td>Virgin Islands</td> <td>-64.7043</td> <td>17.7449</td>\n",
              "        </tr>\n",
              "        <tr>\n",
              "            <td>La Reine Farmers Market                    </td> <td>Saint Croix       </td> <td>Virgin Islands</td> <td>-64.7789</td> <td>17.7322</td>\n",
              "        </tr>\n",
              "        <tr>\n",
              "            <td>Anne Heyliger Vegetable Market             </td> <td>Saint Croix       </td> <td>Virgin Islands</td> <td>-64.8799</td> <td>17.7099</td>\n",
              "        </tr>\n",
              "        <tr>\n",
              "            <td>Rothschild Francis Vegetable Market        </td> <td>St. Thomas        </td> <td>Virgin Islands</td> <td>-64.9326</td> <td>18.3428</td>\n",
              "        </tr>\n",
              "        <tr>\n",
              "            <td>Feria Agrícola de Luquillo                 </td> <td>Luquillo          </td> <td>Puerto Rico   </td> <td>-65.7207</td> <td>18.3782</td>\n",
              "        </tr>\n",
              "        <tr>\n",
              "            <td>El Mercado Familiar                        </td> <td>San Lorenzo       </td> <td>Puerto Rico   </td> <td>-65.9674</td> <td>18.1871</td>\n",
              "        </tr>\n",
              "        <tr>\n",
              "            <td>El Mercado Familiar                        </td> <td>Gurabo            </td> <td>Puerto Rico   </td> <td>-65.9786</td> <td>18.2526</td>\n",
              "        </tr>\n",
              "        <tr>\n",
              "            <td>El Mercado Familiar                        </td> <td>Patillas          </td> <td>Puerto Rico   </td> <td>-66.0135</td> <td>18.0069</td>\n",
              "        </tr>\n",
              "        <tr>\n",
              "            <td>El Mercado Familiar                        </td> <td>Caguas zona urbana</td> <td>Puerto Rico   </td> <td>-66.039 </td> <td>18.2324</td>\n",
              "        </tr>\n",
              "        <tr>\n",
              "            <td>El Maercado Familiar                       </td> <td>Arroyo zona urbana</td> <td>Puerto Rico   </td> <td>-66.0617</td> <td>17.9686</td>\n",
              "        </tr>\n",
              "    </tbody>\n",
              "</table>\n",
              "<p>... (8536 rows omitted)</p>"
            ],
            "text/plain": [
              "MarketName                                  | city               | State          | x        | y\n",
              "Christian \"Shan\" Hendricks Vegetable Market | Saint Croix        | Virgin Islands | -64.7043 | 17.7449\n",
              "La Reine Farmers Market                     | Saint Croix        | Virgin Islands | -64.7789 | 17.7322\n",
              "Anne Heyliger Vegetable Market              | Saint Croix        | Virgin Islands | -64.8799 | 17.7099\n",
              "Rothschild Francis Vegetable Market         | St. Thomas         | Virgin Islands | -64.9326 | 18.3428\n",
              "Feria Agrícola de Luquillo                  | Luquillo           | Puerto Rico    | -65.7207 | 18.3782\n",
              "El Mercado Familiar                         | San Lorenzo        | Puerto Rico    | -65.9674 | 18.1871\n",
              "El Mercado Familiar                         | Gurabo             | Puerto Rico    | -65.9786 | 18.2526\n",
              "El Mercado Familiar                         | Patillas           | Puerto Rico    | -66.0135 | 18.0069\n",
              "El Mercado Familiar                         | Caguas zona urbana | Puerto Rico    | -66.039  | 18.2324\n",
              "El Maercado Familiar                        | Arroyo zona urbana | Puerto Rico    | -66.0617 | 17.9686\n",
              "... (8536 rows omitted)"
            ]
          },
          "metadata": {},
          "execution_count": 31
        }
      ],
      "source": [
        "farmers_markets_locations.sort('x', descending=True)"
      ]
    },
    {
      "cell_type": "markdown",
      "metadata": {
        "id": "GdKtk-OWQn-s"
      },
      "source": [
        "Bit `descending=True` jest nazywany *argumentem opcjonalnym*. Ma domyślną wartość `False`, więc jeśli jawnie powiesz funkcji `descending=True`, funkcja będzie sortować w kolejności malejącej.)\n",
        "\n",
        "### `sort`\n",
        "\n",
        "Kilka szczegółów o funkcji sort:\n",
        "\n",
        "1. Pierwszym argumentem `sort` jest nazwa kolumny według której jest sortowanie.\n",
        "2. Jeśli w kolumnie jest tekst, `sort` będzie sortować alfabetycznie; jeśli w kolumnie są liczby, będzie sortować numerycznie.\n",
        "3. Wartość `farmers_markets_locations.sort(\"x\")` jest *kopią* `farmers_markets_locations`; tabela `farmers_markets_locations` nie jest modyfikowana. Na przykład, jeśli wywołaliśmy `farmers_markets_locations.sort(\"x\")`, następnie wywołanie `farmers_markets_locations` zwróci nieposortowaną tabelę.\n",
        "4. Wiersze zawsze sklejają się podczas sortowania tabeli. Nie miałoby sensu sortowanie tylko jednej kolumny i pozostawienie pozostałych kolumn w spokoju. Na przykład w tym przypadku, gdybyśmy posortowali tylko kolumnę `x`, wszystkie rynki rolników miałyby niewłaściwą długość geograficzną.\n",
        "\n",
        "\n",
        "**Pytanie 3.5.** Utórz wersję tabeli `farmers_markets_locations` posortowaną po **szerokości geograficznej (`y`)**, zaczynając od największych szerokości geograficznych.  Nazwij ją `farmers_markets_locations_by_latitude`.\n",
        "\n",
        "<!--\n",
        "BEGIN QUESTION\n",
        "name: q35\n",
        "-->"
      ]
    },
    {
      "cell_type": "code",
      "execution_count": 36,
      "metadata": {
        "scrolled": true,
        "id": "V1W2c_XtQn-s",
        "colab": {
          "base_uri": "https://localhost:8080/",
          "height": 392
        },
        "outputId": "033ca08f-494d-4964-a1e9-f4f3c3b0818d"
      },
      "outputs": [
        {
          "output_type": "execute_result",
          "data": {
            "text/html": [
              "<table border=\"1\" class=\"dataframe\">\n",
              "    <thead>\n",
              "        <tr>\n",
              "            <th>MarketName</th> <th>x</th> <th>y</th>\n",
              "        </tr>\n",
              "    </thead>\n",
              "    <tbody>\n",
              "        <tr>\n",
              "            <td>Tanana Valley Farmers Market  </td> <td>-147.781</td> <td>64.8628</td>\n",
              "        </tr>\n",
              "        <tr>\n",
              "            <td>Ester Community Market        </td> <td>-148.01 </td> <td>64.8459</td>\n",
              "        </tr>\n",
              "        <tr>\n",
              "            <td>Fairbanks Downtown Market     </td> <td>-147.72 </td> <td>64.8444</td>\n",
              "        </tr>\n",
              "        <tr>\n",
              "            <td>Nenana Open Air Market        </td> <td>-149.096</td> <td>64.5566</td>\n",
              "        </tr>\n",
              "        <tr>\n",
              "            <td>Highway's End Farmers' Market </td> <td>-145.733</td> <td>64.0385</td>\n",
              "        </tr>\n",
              "        <tr>\n",
              "            <td>MountainTraders               </td> <td>-150.118</td> <td>62.3231</td>\n",
              "        </tr>\n",
              "        <tr>\n",
              "            <td>Talkeetna Farmers Market      </td> <td>-150.118</td> <td>62.3228</td>\n",
              "        </tr>\n",
              "        <tr>\n",
              "            <td>Denali Farmers Market         </td> <td>-150.234</td> <td>62.3163</td>\n",
              "        </tr>\n",
              "        <tr>\n",
              "            <td>Kenny Lake Harvest II         </td> <td>-145.476</td> <td>62.1079</td>\n",
              "        </tr>\n",
              "        <tr>\n",
              "            <td>Copper Valley Community Market</td> <td>-145.444</td> <td>62.0879</td>\n",
              "        </tr>\n",
              "    </tbody>\n",
              "</table>\n",
              "<p>... (8536 rows omitted)</p>"
            ],
            "text/plain": [
              "MarketName                     | x        | y\n",
              "Tanana Valley Farmers Market   | -147.781 | 64.8628\n",
              "Ester Community Market         | -148.01  | 64.8459\n",
              "Fairbanks Downtown Market      | -147.72  | 64.8444\n",
              "Nenana Open Air Market         | -149.096 | 64.5566\n",
              "Highway's End Farmers' Market  | -145.733 | 64.0385\n",
              "MountainTraders                | -150.118 | 62.3231\n",
              "Talkeetna Farmers Market       | -150.118 | 62.3228\n",
              "Denali Farmers Market          | -150.234 | 62.3163\n",
              "Kenny Lake Harvest II          | -145.476 | 62.1079\n",
              "Copper Valley Community Market | -145.444 | 62.0879\n",
              "... (8536 rows omitted)"
            ]
          },
          "metadata": {},
          "execution_count": 36
        }
      ],
      "source": [
        "farmers_markets_locations_by_latitude = farmers_markets\n",
        "farmers_markets_locations_by_latitude = farmers_markets_locations_by_latitude.select(\"MarketName\",\"x\", \"y\").sort('y', descending=True)\n",
        "farmers_markets_locations_by_latitude"
      ]
    },
    {
      "cell_type": "markdown",
      "metadata": {
        "id": "BjBkF4F7Qn-s"
      },
      "source": [
        "A teraz powiedzmy, że chcemy mieć tabelę wszystkich targowisk w Kalifornii. Sortowanie niewiele nam tutaj pomoże, ponieważ Kalifornia znajduje się bliżej środka zbioru danych.\n",
        "\n",
        "Zamiast tego, użyjemy metody tabeli `where`."
      ]
    },
    {
      "cell_type": "code",
      "execution_count": 37,
      "metadata": {
        "id": "lAP9AXO-Qn-t",
        "colab": {
          "base_uri": "https://localhost:8080/",
          "height": 392
        },
        "outputId": "39a53d8b-d0d9-4b25-b43e-fce01c0d8b39"
      },
      "outputs": [
        {
          "output_type": "execute_result",
          "data": {
            "text/html": [
              "<table border=\"1\" class=\"dataframe\">\n",
              "    <thead>\n",
              "        <tr>\n",
              "            <th>MarketName</th> <th>city</th> <th>State</th> <th>x</th> <th>y</th>\n",
              "        </tr>\n",
              "    </thead>\n",
              "    <tbody>\n",
              "        <tr>\n",
              "            <td>Adelanto Stadium Farmers Market         </td> <td>Victorville </td> <td>California</td> <td>-117.405</td> <td>34.5593</td>\n",
              "        </tr>\n",
              "        <tr>\n",
              "            <td>Alameda Farmers' Market                 </td> <td>Alameda     </td> <td>California</td> <td>-122.277</td> <td>37.7742</td>\n",
              "        </tr>\n",
              "        <tr>\n",
              "            <td>Alisal Certified Farmers' Market        </td> <td>Salinas     </td> <td>California</td> <td>-121.634</td> <td>36.6733</td>\n",
              "        </tr>\n",
              "        <tr>\n",
              "            <td>Altadena Farmers' Market                </td> <td>Altadena    </td> <td>California</td> <td>-118.158</td> <td>34.2004</td>\n",
              "        </tr>\n",
              "        <tr>\n",
              "            <td>Alum Rock Village Farmers' Market       </td> <td>San Jose    </td> <td>California</td> <td>-121.833</td> <td>37.3678</td>\n",
              "        </tr>\n",
              "        <tr>\n",
              "            <td>Amador Farmers' Market-- Jackson        </td> <td>Jackson     </td> <td>California</td> <td>-120.774</td> <td>38.3488</td>\n",
              "        </tr>\n",
              "        <tr>\n",
              "            <td>Amador Farmers' Market-- Pine Grove     </td> <td>Pine Grove  </td> <td>California</td> <td>-120.774</td> <td>38.3488</td>\n",
              "        </tr>\n",
              "        <tr>\n",
              "            <td>Amador Farmers' Market-- Sutter Creek   </td> <td>Sutter Creek</td> <td>California</td> <td>-120.774</td> <td>38.3488</td>\n",
              "        </tr>\n",
              "        <tr>\n",
              "            <td>Anderson Happy Valley Farmers Market    </td> <td>Anderson    </td> <td>California</td> <td>-122.408</td> <td>40.4487</td>\n",
              "        </tr>\n",
              "        <tr>\n",
              "            <td>Angels Camp Farmers Market-Fresh Fridays</td> <td>Angels Camp </td> <td>California</td> <td>-120.543</td> <td>38.0722</td>\n",
              "        </tr>\n",
              "    </tbody>\n",
              "</table>\n",
              "<p>... (745 rows omitted)</p>"
            ],
            "text/plain": [
              "MarketName                               | city         | State      | x        | y\n",
              "Adelanto Stadium Farmers Market          | Victorville  | California | -117.405 | 34.5593\n",
              "Alameda Farmers' Market                  | Alameda      | California | -122.277 | 37.7742\n",
              "Alisal Certified Farmers' Market         | Salinas      | California | -121.634 | 36.6733\n",
              "Altadena Farmers' Market                 | Altadena     | California | -118.158 | 34.2004\n",
              "Alum Rock Village Farmers' Market        | San Jose     | California | -121.833 | 37.3678\n",
              "Amador Farmers' Market-- Jackson         | Jackson      | California | -120.774 | 38.3488\n",
              "Amador Farmers' Market-- Pine Grove      | Pine Grove   | California | -120.774 | 38.3488\n",
              "Amador Farmers' Market-- Sutter Creek    | Sutter Creek | California | -120.774 | 38.3488\n",
              "Anderson Happy Valley Farmers Market     | Anderson     | California | -122.408 | 40.4487\n",
              "Angels Camp Farmers Market-Fresh Fridays | Angels Camp  | California | -120.543 | 38.0722\n",
              "... (745 rows omitted)"
            ]
          },
          "metadata": {},
          "execution_count": 37
        }
      ],
      "source": [
        "california_farmers_markets = farmers_markets_locations.where('State', are.equal_to('California'))\n",
        "california_farmers_markets"
      ]
    },
    {
      "cell_type": "markdown",
      "metadata": {
        "id": "9emtXz5EQn-t"
      },
      "source": [
        "Na razie zignoruj składnię. Zamiast tego spróbuj przeczytać ten wiersz w ten sposób:\n",
        "\n",
        "> Przypisz nazwę **`california_farmers_markets`** do tabeli, której wiersze są wierszami w tabeli **`farmers_markets_locations`**, gdzie (**`where`**) Stany (**`'State'`**) są równe California (**`are` `equal` `to` `California`**)."
      ]
    },
    {
      "cell_type": "markdown",
      "metadata": {
        "id": "xrT103BpQn-t"
      },
      "source": [
        "### `where`\n",
        "\n",
        "Kilka szczegółów. `where` podbiera 2 argumenty:\n",
        "\n",
        "1. Nazwę kolumny.  `where` znajduje wiersze, w których wartości tej kolumny spełniają określone kryteria.\n",
        "2. Predykat opisujący kryterium, które kolumna musi spełnić.\n",
        "\n",
        "Predykat w powyższym przykładzie nazywa się funkcją `are.equal_to` z wartością, którą chcieliśmy, 'California'. Wkrótce zobaczymy inne predykaty.\n",
        "\n",
        "`where` zwraca tabelę, która jest kopią orginalnej tabeli, ale **tylko z wierszami, które spełniają dany predykat**."
      ]
    },
    {
      "cell_type": "markdown",
      "metadata": {
        "id": "7M-V9ED0Qn-t"
      },
      "source": [
        "**Pytanie 3.6.** Użyj `california_farmers_markets` do utworzenia tabeli nazwanej `berkeley_markets` zawierające targi rolne w Berkeley,California.\n",
        "<!--\n",
        "BEGIN QUESTION\n",
        "name: q36\n",
        "-->"
      ]
    },
    {
      "cell_type": "code",
      "execution_count": 40,
      "metadata": {
        "id": "MIrt6_BvQn-t",
        "colab": {
          "base_uri": "https://localhost:8080/",
          "height": 143
        },
        "outputId": "0f3dd5e5-afd9-492d-9a73-d56ce36c3a52"
      },
      "outputs": [
        {
          "output_type": "execute_result",
          "data": {
            "text/html": [
              "<table border=\"1\" class=\"dataframe\">\n",
              "    <thead>\n",
              "        <tr>\n",
              "            <th>MarketName</th> <th>city</th> <th>State</th> <th>x</th> <th>y</th>\n",
              "        </tr>\n",
              "    </thead>\n",
              "    <tbody>\n",
              "        <tr>\n",
              "            <td>Downtown Berkeley Farmers' Market</td> <td>Berkeley</td> <td>California</td> <td>-122.273</td> <td>37.8697</td>\n",
              "        </tr>\n",
              "        <tr>\n",
              "            <td>North Berkeley Farmers' Market   </td> <td>Berkeley</td> <td>California</td> <td>-122.269</td> <td>37.8802</td>\n",
              "        </tr>\n",
              "        <tr>\n",
              "            <td>South Berkeley Farmers' Market   </td> <td>Berkeley</td> <td>California</td> <td>-122.272</td> <td>37.8478</td>\n",
              "        </tr>\n",
              "    </tbody>\n",
              "</table>"
            ],
            "text/plain": [
              "MarketName                        | city     | State      | x        | y\n",
              "Downtown Berkeley Farmers' Market | Berkeley | California | -122.273 | 37.8697\n",
              "North Berkeley Farmers' Market    | Berkeley | California | -122.269 | 37.8802\n",
              "South Berkeley Farmers' Market    | Berkeley | California | -122.272 | 37.8478"
            ]
          },
          "metadata": {},
          "execution_count": 40
        }
      ],
      "source": [
        "berkeley_markets = california_farmers_markets.where('city', are.equal_to('Berkeley'))\n",
        "berkeley_markets"
      ]
    },
    {
      "cell_type": "markdown",
      "metadata": {
        "id": "qm8lPmFXQn-t"
      },
      "source": [
        "Do tej pory używaliśmy tylko `where` z predykatem, który wymaga znalezienia wartości w kolumnie, aby *dokładnie* były równe określonej wartości. Istnieje jednak wiele innych predykatów. Tu jest kilka:\n",
        "\n",
        "\n",
        "|Predykat|Przykład|Wynik|\n",
        "|-|-|-|\n",
        "|`are.equal_to`|`are.equal_to(50)`|Znajduje wiersze z wartościami równymi 50|\n",
        "|`are.not_equal_to`|`are.not_equal_to(50)`|Znajduje wiersze z wartościami rożnymi od 50|\n",
        "|`are.above`|`are.above(50)`|Znajduje wiersze z wartościami powyżej (i nie równymi) 50|\n",
        "|`are.above_or_equal_to`|`are.above_or_equal_to(50)`|Znajduje wiersze z wartościami powyżej lub równymi 50|\n",
        "|`are.below`|`are.below(50)`|Znajduje wiersze z wartościami poniżej 50|\n",
        "|`are.between`|`are.between(2, 10)`|Znajduje wiersze z wartościami powyżej (lub równymi) 2 i poniżej 10|"
      ]
    },
    {
      "cell_type": "markdown",
      "metadata": {
        "id": "TQ0Y02b1Qn-t"
      },
      "source": [
        "## 4. Analizowanie zbioru danych\n",
        "\n",
        "Uruchom komórkę poniżej, aby załadować tabelę `imdb`. Zawiera informacje o 250 najwyżej ocenianych filmach na IMDb."
      ]
    },
    {
      "cell_type": "code",
      "execution_count": 41,
      "metadata": {
        "scrolled": true,
        "id": "XxXjhzLmQn-t",
        "colab": {
          "base_uri": "https://localhost:8080/",
          "height": 392
        },
        "outputId": "1963f49c-19c0-43a1-ab7a-4c72aaf37d28"
      },
      "outputs": [
        {
          "output_type": "execute_result",
          "data": {
            "text/html": [
              "<table border=\"1\" class=\"dataframe\">\n",
              "    <thead>\n",
              "        <tr>\n",
              "            <th>Votes</th> <th>Rating</th> <th>Title</th> <th>Year</th> <th>Decade</th>\n",
              "        </tr>\n",
              "    </thead>\n",
              "    <tbody>\n",
              "        <tr>\n",
              "            <td>88355 </td> <td>8.4   </td> <td>M                    </td> <td>1931</td> <td>1930  </td>\n",
              "        </tr>\n",
              "        <tr>\n",
              "            <td>132823</td> <td>8.3   </td> <td>Singin' in the Rain  </td> <td>1952</td> <td>1950  </td>\n",
              "        </tr>\n",
              "        <tr>\n",
              "            <td>74178 </td> <td>8.3   </td> <td>All About Eve        </td> <td>1950</td> <td>1950  </td>\n",
              "        </tr>\n",
              "        <tr>\n",
              "            <td>635139</td> <td>8.6   </td> <td>Léon                 </td> <td>1994</td> <td>1990  </td>\n",
              "        </tr>\n",
              "        <tr>\n",
              "            <td>145514</td> <td>8.2   </td> <td>The Elephant Man     </td> <td>1980</td> <td>1980  </td>\n",
              "        </tr>\n",
              "        <tr>\n",
              "            <td>425461</td> <td>8.3   </td> <td>Full Metal Jacket    </td> <td>1987</td> <td>1980  </td>\n",
              "        </tr>\n",
              "        <tr>\n",
              "            <td>441174</td> <td>8.1   </td> <td>Gone Girl            </td> <td>2014</td> <td>2010  </td>\n",
              "        </tr>\n",
              "        <tr>\n",
              "            <td>850601</td> <td>8.3   </td> <td>Batman Begins        </td> <td>2005</td> <td>2000  </td>\n",
              "        </tr>\n",
              "        <tr>\n",
              "            <td>37664 </td> <td>8.2   </td> <td>Judgment at Nuremberg</td> <td>1961</td> <td>1960  </td>\n",
              "        </tr>\n",
              "        <tr>\n",
              "            <td>46987 </td> <td>8     </td> <td>Relatos salvajes     </td> <td>2014</td> <td>2010  </td>\n",
              "        </tr>\n",
              "    </tbody>\n",
              "</table>\n",
              "<p>... (240 rows omitted)</p>"
            ],
            "text/plain": [
              "Votes  | Rating | Title                 | Year | Decade\n",
              "88355  | 8.4    | M                     | 1931 | 1930\n",
              "132823 | 8.3    | Singin' in the Rain   | 1952 | 1950\n",
              "74178  | 8.3    | All About Eve         | 1950 | 1950\n",
              "635139 | 8.6    | Léon                  | 1994 | 1990\n",
              "145514 | 8.2    | The Elephant Man      | 1980 | 1980\n",
              "425461 | 8.3    | Full Metal Jacket     | 1987 | 1980\n",
              "441174 | 8.1    | Gone Girl             | 2014 | 2010\n",
              "850601 | 8.3    | Batman Begins         | 2005 | 2000\n",
              "37664  | 8.2    | Judgment at Nuremberg | 1961 | 1960\n",
              "46987  | 8      | Relatos salvajes      | 2014 | 2010\n",
              "... (240 rows omitted)"
            ]
          },
          "metadata": {},
          "execution_count": 41
        }
      ],
      "source": [
        "# Tylko uruchom komórkę\n",
        "\n",
        "imdb = Table.read_table('/content/drive/MyDrive/PiAD_lab_02/imdb.csv')\n",
        "imdb"
      ]
    },
    {
      "cell_type": "markdown",
      "metadata": {
        "id": "cMKM-Y2kQn-t"
      },
      "source": [
        "Często chcemy wykonać wiele operacji - sortowanie, filtrowanie lub inne - po to, aby zamienić tabelę, którą mamy w coś bardziej użytecznego. Możesz wykonywać te operacje pojedynczo, np.\n",
        "\n",
        "```\n",
        "first_step = original_tbl.where(“col1”, are.equal_to(12))\n",
        "second_step = first_step.sort(‘col2’, descending=True)\n",
        "```\n",
        "\n",
        "Ponieważ jednak wartość wyrażenia `original_tbl.where(“col1”, are.equal_to(12))` jest sama w sobie tabelą, możesz po prostu wywołać na niej metodę tabeli:\n",
        "\n",
        "```\n",
        "original_tbl.where(“col1”, are.equal_to(12)).sort(‘col2’, descending=True)\n",
        "```\n",
        "Pracę trzeba zorganizować w sposób, który jest dla Ciebie najbardziej sensowny, używając nazw informacyjnych dla wszelkich tworzonych tabel pośrednich."
      ]
    },
    {
      "cell_type": "markdown",
      "metadata": {
        "id": "IKhyL7gKQn-t"
      },
      "source": [
        "**Pytanie 4.1.** Utwórz tabelę filmów wydanych w latach 2010–2016 (włącznie) z ocenami powyżej 8. Tabela powinna zawierać tylko kolumny `Title` i `Rating` **w tej kolejności**.\n",
        "\n",
        "Przypisz tabelę do nazwy `above_eight`.\n",
        "\n",
        "*Wskazówka:* Pomyśl o krokach, które musisz podjąć i spróbuj ułożyć je w sensownej kolejności. Możesz tworzyć tabele pośrednie dla każdego kroku, ale pamiętaj, aby przypisać swojej ostatniemu tabeli nazwę `above_eight`!\n",
        "\n",
        "<!--\n",
        "BEGIN QUESTION\n",
        "name: q41\n",
        "-->"
      ]
    },
    {
      "cell_type": "code",
      "execution_count": 42,
      "metadata": {
        "scrolled": false,
        "id": "lpYI8GZ_Qn-u",
        "colab": {
          "base_uri": "https://localhost:8080/",
          "height": 392
        },
        "outputId": "a6b0d71e-61a1-434e-a5f7-6439086fb25e"
      },
      "outputs": [
        {
          "output_type": "execute_result",
          "data": {
            "text/html": [
              "<table border=\"1\" class=\"dataframe\">\n",
              "    <thead>\n",
              "        <tr>\n",
              "            <th>Title</th> <th>Rating</th>\n",
              "        </tr>\n",
              "    </thead>\n",
              "    <tbody>\n",
              "        <tr>\n",
              "            <td>Inception              </td> <td>8.7   </td>\n",
              "        </tr>\n",
              "        <tr>\n",
              "            <td>Interstellar           </td> <td>8.6   </td>\n",
              "        </tr>\n",
              "        <tr>\n",
              "            <td>Whiplash               </td> <td>8.5   </td>\n",
              "        </tr>\n",
              "        <tr>\n",
              "            <td>Inside Out (2015/I)    </td> <td>8.5   </td>\n",
              "        </tr>\n",
              "        <tr>\n",
              "            <td>Intouchables           </td> <td>8.5   </td>\n",
              "        </tr>\n",
              "        <tr>\n",
              "            <td>The Dark Knight Rises  </td> <td>8.4   </td>\n",
              "        </tr>\n",
              "        <tr>\n",
              "            <td>Django Unchained       </td> <td>8.4   </td>\n",
              "        </tr>\n",
              "        <tr>\n",
              "            <td>Mad Max: Fury Road     </td> <td>8.3   </td>\n",
              "        </tr>\n",
              "        <tr>\n",
              "            <td>Jodaeiye Nader az Simin</td> <td>8.3   </td>\n",
              "        </tr>\n",
              "        <tr>\n",
              "            <td>Toy Story 3            </td> <td>8.3   </td>\n",
              "        </tr>\n",
              "    </tbody>\n",
              "</table>\n",
              "<p>... (10 rows omitted)</p>"
            ],
            "text/plain": [
              "Title                   | Rating\n",
              "Inception               | 8.7\n",
              "Interstellar            | 8.6\n",
              "Whiplash                | 8.5\n",
              "Inside Out (2015/I)     | 8.5\n",
              "Intouchables            | 8.5\n",
              "The Dark Knight Rises   | 8.4\n",
              "Django Unchained        | 8.4\n",
              "Mad Max: Fury Road      | 8.3\n",
              "Jodaeiye Nader az Simin | 8.3\n",
              "Toy Story 3             | 8.3\n",
              "... (10 rows omitted)"
            ]
          },
          "metadata": {},
          "execution_count": 42
        }
      ],
      "source": [
        "after2010 = imdb.where(\"Year\",are.above_or_equal_to(2010))\n",
        "between2010_2016 = after2010.where(\"Year\",are.below_or_equal_to(2016))\n",
        "above_eight = between2010_2016.where(\"Rating\",are.above(8)).select(\"Title\",\"Rating\").sort('Rating', descending=True)\n",
        "above_eight"
      ]
    },
    {
      "cell_type": "markdown",
      "metadata": {
        "id": "hHri0BkUQn-u"
      },
      "source": [
        "**Pytanie 4.2.** Użyj `num_rows` (i arytmetki) aby znaleźć *proporcję* filmów w zbiorze danych opublikowanych w latach 1900-1999 oraz *proporcję* filmów w zbiorze danych opublikowanych w roku 2000 lub później.\n",
        "\n",
        "Przypisz `proportion_in_20th_century` do odsetka filmów w zbiorze danych, które zostały wydane w latach 1900-1999, a `proportion_in_21st_century` do proporcji filmów w zbiorze danych, które zostały wydane w roku 2000 lub później.\n",
        "\n",
        "*Wskazówka:* *Proporcja* filmów wydanych w 1900 to *liczba* filmów wydanych w 1900, podzielona przez *całkowitą liczbę* filmów.\n",
        "\n",
        "<!--\n",
        "BEGIN QUESTION\n",
        "name: q42\n",
        "-->"
      ]
    },
    {
      "cell_type": "code",
      "execution_count": 47,
      "metadata": {
        "id": "6Jps5NR-Qn-u",
        "colab": {
          "base_uri": "https://localhost:8080/"
        },
        "outputId": "43087ed2-f247-4284-f28f-a8ad8c189faa"
      },
      "outputs": [
        {
          "output_type": "stream",
          "name": "stdout",
          "text": [
            "Proportion in 20th century: 0.684\n",
            "Proportion in 21st century: 0.316\n"
          ]
        }
      ],
      "source": [
        "num_movies_in_dataset = imdb.num_rows\n",
        "num_in_20th_century = imdb.where(\"Year\",are.below_or_equal_to(1999)).num_rows\n",
        "num_in_21st_century = imdb.where(\"Year\",are.above_or_equal_to(2000)).num_rows\n",
        "proportion_in_20th_century = num_in_20th_century/num_movies_in_dataset\n",
        "proportion_in_21st_century = num_in_21st_century/num_movies_in_dataset\n",
        "print(\"Proportion in 20th century:\", proportion_in_20th_century)\n",
        "print(\"Proportion in 21st century:\", proportion_in_21st_century)"
      ]
    },
    {
      "cell_type": "markdown",
      "metadata": {
        "id": "BwJ_o05vQn-u"
      },
      "source": [
        "## 5. Podsumowanie\n",
        "\n",
        "W celach informacyjnych, oto tabela wszystkich funkcji i metod, które wystąpiły w tym laboratorium. Więcej metod do dodania do tej tabeli będzie na następnych zajęciach!\n",
        "\n",
        "|Nazwa|Przykład|Cel|\n",
        "|-|-|-|\n",
        "|`sort`|`tbl.sort(\"N\")`|Tworzy kopię tabeli posortowaną według wartości w kolumnie|\n",
        "|`where`|`tbl.where(\"N\", are.above(2))`|Tworzy kopię tabeli tylko z wierszami, które pasują do *predykatu*|\n",
        "|`num_rows`|`tbl.num_rows`|Oblicza liczbę wierszy w tabeli|\n",
        "|`num_columns`|`tbl.num_columns`|Oblicza liczbę kolumn w tabeli|\n",
        "|`select`|`tbl.select(\"N\")`|Tworzy kopię tabeli z tylko niektórymi kolumnami|\n",
        "|`drop`|`tbl.drop(\"2*N\")`|Tworzy kopię tabeli bez niektórych kolumn|\n",
        "\n",
        "<br/>\n",
        "\n",
        "Właśnie zakończyliśmy ćwiczenia z laboratorium 2. Pamiętaj, żeby...\n",
        "- wybrać **Save and Checkpoint** z menu `File`,\n",
        "- przesłać swoją pracę w sposób przekazany przez prowadzącego."
      ]
    }
  ],
  "metadata": {
    "kernelspec": {
      "display_name": "Python 3 (ipykernel)",
      "language": "python",
      "name": "python3"
    },
    "language_info": {
      "codemirror_mode": {
        "name": "ipython",
        "version": 3
      },
      "file_extension": ".py",
      "mimetype": "text/x-python",
      "name": "python",
      "nbconvert_exporter": "python",
      "pygments_lexer": "ipython3",
      "version": "3.9.7"
    },
    "colab": {
      "name": "lab02_colab.ipynb",
      "provenance": [],
      "collapsed_sections": [],
      "include_colab_link": true
    }
  },
  "nbformat": 4,
  "nbformat_minor": 0
}