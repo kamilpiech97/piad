{
  "cells": [
    {
      "cell_type": "markdown",
      "metadata": {
        "id": "view-in-github",
        "colab_type": "text"
      },
      "source": [
        "<a href=\"https://colab.research.google.com/github/kamilpiech97/piad/blob/main/lab01(1).ipynb\" target=\"_parent\"><img src=\"https://colab.research.google.com/assets/colab-badge.svg\" alt=\"Open In Colab\"/></a>"
      ]
    },
    {
      "cell_type": "markdown",
      "metadata": {
        "id": "IsP2ShSiGHrX"
      },
      "source": [
        "# Laboratorium 1: Wyrażenia\n",
        "\n",
        "Witam na zajęciach laboratoryjnych do kursu *Przetwarzanie i analiza danych*!\n",
        "Zajęcia laboratoryjne powstały na bazie kursu Data 8: *Foundations of Data Science* opracowanego przez Berkeley Division of Data Sciences!\n",
        "\n",
        "Na każde zajęcia laboratoryjne udostępniany będzie zestaw ćwiczeń jak ten. Ćwiczenia należy wykonać samodzielnie a notatnik zawierający rozwiązania należy odesłać prowadzącemu.   \n",
        "\n",
        "Współpraca na zajęciach jest bardziej niż w porządku -- jest zalecana! Nie powinniście utknąć na więcej niż kilka minut na pytaniach w czasie laboratorium, więc można prosić o pomocso ask a neighbor or an instructor for help. Please don't just share answers, though.\n",
        "\n",
        "\n",
        "#### Dzisiejsze laboratorium\n",
        "\n",
        "Podczas dzisiejszych zajęć nauczysz się:\n",
        "\n",
        "1. nawigować po notatnikach Jupyter (jak ten);\n",
        "2. pisać i wykonywać podstawowe *wyrażenia* w Pythonie, języku wykorzystywanym podczas tego kursu;\n",
        "3. wywoływać *funkcje* by wykorzystywać kod napisany przez innych;\n",
        "4. dzielić kod Pythona na mniejsze części, aby go zrozumieć.\n",
        "\n",
        "Laboratorium obejmuje [Chapter 3](http://www.inferentialthinking.com/chapters/03/programming-in-python.html) podręcznika dostępnego online. Polecam przeczytać przykłady z podręcznika, ale nie teraz. "
      ]
    },
    {
      "cell_type": "markdown",
      "metadata": {
        "id": "aUhAEVPaGHrb"
      },
      "source": [
        "# 1. Notatniki Jupyter (*Jupyter notebooks*)\n",
        "Ta strona internetowa nazywa się notatnikiem Jupyter. Notatnik to miejsce do pisania programów i przeglądania ich wyników, a także do pisania tekstów.\n",
        "\n",
        "## 1.1. Komórki tekstowe (*Text cells*)\n",
        "W notatniku, każdy prostokąt zawierający tekst nazywa się *komórką* (*cell*).\n",
        "\n",
        "Komórki tekstowe (jak ta) można edytować klikając dwukrotnie na nie. Są one napisane w prostym formacie nazywanym [Markdown](http://daringfireball.net/projects/markdown/syntax) umożliwiającym formatowanie i dodawanie nagłówków.\n",
        "\n",
        "Po zakończeniu edycji komórki tekstowej, kliknij przycisk \"run cell\" na górze, który wygląda tak ▶| lub użyj kombinacji `shift` + `return` by zatwierdzić zmiany. (Spróbuj nie skasować instrukcji laboratoryjnej)"
      ]
    },
    {
      "cell_type": "markdown",
      "metadata": {
        "id": "_6kKhVygGHrd"
      },
      "source": [
        "**Pytanie 1.1.1.** Ten akapit znajduje się we własnej komórce tekstowej. Spróbuj go przeedytować, aby to zdanie było ostatnim zdaniem w akapicie, potem kliknij przycisk \"run cell\" ▶| lub użyj `shift` + `return`."
      ]
    },
    {
      "cell_type": "markdown",
      "metadata": {
        "id": "UnutPORrGHre"
      },
      "source": [
        "## 1.2. Komórki kodu (*Code cells*)\n",
        "Inne komórki zawierają kod w języku Python 3. Uruchomienie komórki kodu spowoduje wykonanie całego zawartego w niej kodu.\n",
        "\n",
        "Aby wykonać komórkę kodu, najpierw kliknij na nią aby ją aktywować.  Zostanie podświetlona małym zielonym lub niebieskim prostokątem.  Następnie, naciśnij ▶| lub użyj `shift` + `return`.\n",
        "\n",
        "Spróbuj wykonać komórkę poniżej:"
      ]
    },
    {
      "cell_type": "code",
      "execution_count": null,
      "metadata": {
        "colab": {
          "base_uri": "https://localhost:8080/"
        },
        "id": "BC6IigSTGHrf",
        "outputId": "faad1309-3257-4d63-ff85-d1fb74f365a6"
      },
      "outputs": [
        {
          "output_type": "stream",
          "name": "stdout",
          "text": [
            "Hello, World!\n"
          ]
        }
      ],
      "source": [
        "print(\"Hello, World!\")"
      ]
    },
    {
      "cell_type": "markdown",
      "metadata": {
        "id": "4x5QPggpGHrg"
      },
      "source": [
        "i tą:"
      ]
    },
    {
      "cell_type": "code",
      "execution_count": null,
      "metadata": {
        "colab": {
          "base_uri": "https://localhost:8080/"
        },
        "id": "HfRPHnyiGHri",
        "outputId": "d694241c-3b5e-4bff-a0a2-929a11a8fecd"
      },
      "outputs": [
        {
          "output_type": "stream",
          "name": "stdout",
          "text": [
            "👋, 🌍!\n"
          ]
        }
      ],
      "source": [
        "print(\"\\N{WAVING HAND SIGN}, \\N{EARTH GLOBE EUROPE-AFRICA}!\")"
      ]
    },
    {
      "cell_type": "markdown",
      "metadata": {
        "id": "CBrT_majGHrj"
      },
      "source": [
        "Podstawowym elementem kodu Pythona jest wyrażenie. Komórki mogą zawierać wiele wierszy z wieloma wyrażeniami. Po uruchomieniu komórki wiersze kodu są wykonywane w kolejności, w jakiej się pojawiają. Każde wyrażenie `print` drukuje linię. Uruchom następną komórkę i zwróć uwagę na kolejność danych wyjściowych."
      ]
    },
    {
      "cell_type": "code",
      "execution_count": null,
      "metadata": {
        "colab": {
          "base_uri": "https://localhost:8080/"
        },
        "id": "oDznObKbGHrk",
        "outputId": "832ac842-d7f9-4481-e7f6-a2cef1c0e693"
      },
      "outputs": [
        {
          "output_type": "stream",
          "name": "stdout",
          "text": [
            "Najpierw ta linia,\n",
            "potem cały 🌍,\n",
            "następnie ta.\n"
          ]
        }
      ],
      "source": [
        "print(\"Najpierw ta linia,\")\n",
        "print(\"potem cały \\N{EARTH GLOBE EUROPE-AFRICA},\")\n",
        "print(\"następnie ta.\")"
      ]
    },
    {
      "cell_type": "markdown",
      "metadata": {
        "id": "_5qo1zpKGHrm"
      },
      "source": [
        "**Pytanie 1.2.1.** Zmień powyższą komórkę, aby wynik był następujący:\n",
        "\n",
        "    Najpierw ta linia,\n",
        "    potem cały 🌏,\n",
        "    następnie ta.\n",
        "\n",
        "*Podpowiedź:* Jeśli utkniesz na symbolu Ziemi na dłużej niż kilka minut, spróbuj porozmawiać z sąsiadem lub prowadzącym. To dobry pomysł na każdy problem laboratoryjny."
      ]
    },
    {
      "cell_type": "markdown",
      "metadata": {
        "id": "l41NWvSGGHro"
      },
      "source": [
        "## 1.3. Pisanie notatników Jupyter\n",
        "Możesz używać notatników Jupyter do własnych projektów lub dokumentów. Tworząc własny notatnik, musisz utworzyć własne komórki na tekst i kod.\n",
        "Aby dodać komórkę, kliknij przycisk + na pasku menu. Zacznie jako komórka tekstowa. Możesz zmienić ją na komórkę kodu, klikając wewnątrz niej, aby była podświetlona, klikając pole rozwijane obok przycisku restart (⟳) na pasku menu i wybierając \"Code\".\n",
        "\n",
        "**Pytanie 1.3.1.** Dodaj komórkę kodu poniżej bieżącej.  Napisz w niej kod, który wyświetli:\n",
        "   \n",
        "    Całkiem nowa komórka! ♪🌏♪\n",
        "\n",
        "(Ten symbol nuty jest jak symbol Ziemi. Jego długa nazwa to `\\N{EIGHTH NOTE}`.)\n",
        "\n",
        "Wykonaj komórkę, aby sprawdzić czy działa."
      ]
    },
    {
      "cell_type": "code",
      "source": [
        "print(\"Całkiem nowa komórka! \\N{EIGHTH NOTE}\\N{EARTH GLOBE EUROPE-AFRICA}\\N{EIGHTH NOTE}\")\n"
      ],
      "metadata": {
        "colab": {
          "base_uri": "https://localhost:8080/"
        },
        "id": "jBX6M4QCRV0s",
        "outputId": "c6f4f97f-26c4-4ba4-f3e3-d4b608fcdbce"
      },
      "execution_count": null,
      "outputs": [
        {
          "output_type": "stream",
          "name": "stdout",
          "text": [
            "Całkiem nowa komórka! ♪🌍♪\n"
          ]
        }
      ]
    },
    {
      "cell_type": "markdown",
      "metadata": {
        "id": "daOQOIBFGHrp"
      },
      "source": [
        "## 1.4. Błędy\n",
        "Python jest językiem i podobnie jak naturalne języki ludzkie, ma zasady. Różni się od języka naturalnego na dwa ważne sposoby:\n",
        "1. Zasady są *proste*.  Większości z nich możesz nauczyć się w kilka tygodni i uzyskać względną biegłość w ciągu semestru.\n",
        "2. Zasady są *sztywne*.  Jeśli jesteś biegły w języku naturalnym, zrozumiesz rozmówcę, który nie jest biegły, korygując drobne błędy. Komputer wykonujący kod Pythona nie jest wystarczająco inteligentny, aby to zrobić.\n",
        "\n",
        "Ilekroć piszesz kod, popełniasz błędy. Kiedy uruchamiasz komórkę kodu, która zawiera błędy, Python czasami generuje komunikaty o błędach, informujące o tym, co zrobiłeś źle.\n",
        "\n",
        "Błędy są w porządku; nawet doświadczeni programiści popełniają wiele błędów. Kiedy popełnisz błąd, wystarczy znaleźć źródło problemu, naprawić go i przejść dalej.\n",
        "\n",
        "W następnej komórce jest błąd. Uruchom go i zobacz, co się stanie."
      ]
    },
    {
      "cell_type": "code",
      "execution_count": null,
      "metadata": {
        "scrolled": true,
        "colab": {
          "base_uri": "https://localhost:8080/"
        },
        "id": "cPPAhZTEGHrp",
        "outputId": "187a1e87-b85a-4fe0-a635-55c31bdfe490"
      },
      "outputs": [
        {
          "output_type": "stream",
          "name": "stdout",
          "text": [
            "This line is missing something.\n"
          ]
        }
      ],
      "source": [
        "print(\"This line is missing something.\");"
      ]
    },
    {
      "cell_type": "code",
      "execution_count": null,
      "metadata": {
        "for_assignment_type": "solution",
        "colab": {
          "base_uri": "https://localhost:8080/"
        },
        "id": "MgZBpGjGGHrr",
        "outputId": "413851fa-f000-41c0-f590-e2d9847c14c4"
      },
      "outputs": [
        {
          "output_type": "stream",
          "name": "stdout",
          "text": [
            "This line is missing something.\n"
          ]
        }
      ],
      "source": [
        "print(\"This line is missing something.\");"
      ]
    },
    {
      "cell_type": "markdown",
      "metadata": {
        "id": "T6aM3PW9GHrr"
      },
      "source": [
        "**Uwaga:** Na pasku narzędzi dostępna jest opcja kliknięcia `Cell > Run All`, co spowoduje uruchomienie wszystkich komórek kodu w tym notatniku w kolejności. Notatnik przestaje jednak uruchamiać komórki kodu, jeśli napotka błąd, taki jak w powyższej komórce."
      ]
    },
    {
      "cell_type": "markdown",
      "metadata": {
        "id": "gq3snaGnGHrr"
      },
      "source": [
        "Wynikiem powinno być coś takiego (bez adnotacji):\n",
        "\n",
        "<img src=\"error.jpg\"/>\n",
        "\n",
        "Ostatni wiersz wyjścia błędu próbuje powiedzieć, co poszło nie tak. Składnia (*syntax*) języka jest jego strukturą, a  `SyntaxError` mówi, że utworzona został nieprawidłowa struktura. \"`EOF`\" oznacza „koniec pliku”, więc komunikat mówi, że Python oczekiwał, że napiszesz coś więcej (w tym przypadku prawy nawias) przed zakończeniem komórki.\n",
        "\n",
        "W językach programowania jest dużo terminologii, ale nie musisz znać jej całej, aby programować efektywnie. Jeśli zobaczysz taką zagadkową wiadomość, często możesz obejść się bez jej rozszyfrowania. (Oczywiście, jeśli jesteś sfrustrowany(-a), poproś o pomoc sąsiada lub prowadzącego).\n",
        "\n",
        "Spróbuj naprawić powyższy kod, aby uruchomić komórkę i zobaczyć zamierzony komunikat zamiast błędu."
      ]
    },
    {
      "cell_type": "markdown",
      "metadata": {
        "id": "CRHZKC-VGHrs"
      },
      "source": [
        "## 1.5. Jądro\n",
        "Jądro (*kernel*) to program, który wykonuje kod w twoim notebooku i wyświetla wyniki. W prawym górnym rogu okna możesz zobaczyć kółko, które wskazuje stan twojego jądra. Jeśli kółko jest puste (⚪), jądro jest bezczynne i gotowe do wykonania kodu. Jeśli kółko jest wypełnione (⚫), jądro jest zajęte wykonywaniem kodu.\n",
        "\n",
        "Obok każdej komórki kodu zobaczysz tekst z napisem `In [ ]`. Przed uruchomieniem komórki zobaczysz `In [ ]`. Gdy komórka jest uruchomiona, zobaczysz `In [*]`. Jeśli widzisz gwiazdkę (\\*) obok komórki, która nie znika, prawdopodobnie kod wewnątrz komórki trwa zbyt długo i może to być dobry moment na przerwanie jądra (omówione poniżej). Gdy komórka zakończy działanie, zobaczysz liczbę w nawiasach, na przykład: `In [1]`. Liczba odpowiada kolejności, w jakiej uruchamiasz komórki; tak więc pierwsza komórka, którą uruchomisz, pokaże 1 po zakończeniu działania, druga pokaże 2 i tak dalej. \n",
        "\n",
        "Możesz napotkać problemy polegające na tym, że jądro utknęło na zbyt długi czas, notebook działa bardzo wolno i nie odpowiada lub jądro traci połączenie. Jeśli tak się stanie, spróbuj wykonać następujące czynności:\n",
        "1. Na górze ekranu, kliknij **Kernel**, następnie **Interrupt**.\n",
        "2. Jeśli to nie pomoże, kliknij **Kernel**, następnie **Restart**. Jeśli to zrobisz, trzeba będzie uruchomić komórki kodu od początku notesu do momentu wstrzymania pracy."
      ]
    },
    {
      "cell_type": "markdown",
      "metadata": {
        "id": "LQogINeqGHrs"
      },
      "source": [
        "# 2. Liczby\n",
        "\n",
        "Informacje ilościowe pojawiają się wszędzie w nauce o danych. Oprócz reprezentowania poleceń drukowania wierszy, wyrażenia mogą reprezentować liczby i metody łączenia liczb. Wynikiem wyrażenia `3.2500` jest liczba 3.25. (Wykonaj komórkę i zobacz.)"
      ]
    },
    {
      "cell_type": "code",
      "execution_count": null,
      "metadata": {
        "colab": {
          "base_uri": "https://localhost:8080/"
        },
        "id": "MCWa_1t8GHrt",
        "outputId": "dcea6dc7-1260-4328-bf0c-900e2ae9e110"
      },
      "outputs": [
        {
          "output_type": "execute_result",
          "data": {
            "text/plain": [
              "3.25"
            ]
          },
          "metadata": {},
          "execution_count": 14
        }
      ],
      "source": [
        "3.2500"
      ]
    },
    {
      "cell_type": "markdown",
      "metadata": {
        "id": "NEuf979AGHrt"
      },
      "source": [
        "Zauważ, że nie musieliśmy użyć `print`. Kiedy uruchamiasz komórkę notatnika, jeśli ostatni wiersz ma wartość, Jupyter wyświetla tą wartość. Jednak nie wydrukuje automatycznie wcześniejszych wierszy!"
      ]
    },
    {
      "cell_type": "code",
      "execution_count": null,
      "metadata": {
        "scrolled": true,
        "colab": {
          "base_uri": "https://localhost:8080/"
        },
        "id": "qgYGLzjgGHru",
        "outputId": "06f2da03-cbe9-4017-dddb-5fd385bc5e28"
      },
      "outputs": [
        {
          "output_type": "stream",
          "name": "stdout",
          "text": [
            "2\n"
          ]
        },
        {
          "output_type": "execute_result",
          "data": {
            "text/plain": [
              "4"
            ]
          },
          "metadata": {},
          "execution_count": 15
        }
      ],
      "source": [
        "print(2)\n",
        "3\n",
        "4"
      ]
    },
    {
      "cell_type": "markdown",
      "metadata": {
        "id": "VZ8q9WTaGHru"
      },
      "source": [
        "Powyżej widać, że 4 jest wartością ostatniego wyrażenia, 2 jest drukowane, ale 3 jest stracone na zawsze, ponieważ nie zostało wydrukowane ani nie jest na końcu.\n",
        "\n",
        "I tak nie chcesz drukować wszystkiego przez cały czas. Ale jeśli żałujesz 3, zmień powyższą komórkę, aby ją wydrukować."
      ]
    },
    {
      "cell_type": "markdown",
      "metadata": {
        "id": "A2QWDR5sGHrw"
      },
      "source": [
        "## 2.1. Arytmetyka\n",
        "Linia w następnej komórce zawiera odejmowanie. Jego wartość jest taka, jakiej można się spodziewać. Uruchom."
      ]
    },
    {
      "cell_type": "code",
      "execution_count": null,
      "metadata": {
        "colab": {
          "base_uri": "https://localhost:8080/"
        },
        "id": "exOItG4zGHrw",
        "outputId": "8bceffee-7102-45c7-8a09-28492319a49f"
      },
      "outputs": [
        {
          "output_type": "execute_result",
          "data": {
            "text/plain": [
              "1.75"
            ]
          },
          "metadata": {},
          "execution_count": 16
        }
      ],
      "source": [
        "3.25 - 1.5"
      ]
    },
    {
      "cell_type": "markdown",
      "metadata": {
        "id": "i3_oebA9GHrx"
      },
      "source": [
        "Wiele podstawowych operacji arytmetycznych jest wbudowanych w Pythonie. Sekcja podręcznika pt. [Expressions](http://www.inferentialthinking.com/chapters/03/1/expressions.html) opisuje wszystkie operatory arytmetyczne używane w tym kursie. Operatorem, który różni się od typowej notacjihmatematycznej, jest  `**`, który podnosi liczbę do potęgi kolejnej liczby. `2**3` oznacza $2^3$ i wynikiem jest 8.\n",
        "\n",
        "Kolejność operacji jest taka sama jak ta, której uczy się w szkole podstawowej, a Python ma również nawiasy. Na przykład porównaj dane wyjściowe komórek poniżej. Druga komórka używa nawiasów dla bieżącego roku!\n"
      ]
    },
    {
      "cell_type": "code",
      "execution_count": null,
      "metadata": {
        "colab": {
          "base_uri": "https://localhost:8080/"
        },
        "id": "kiJH2Fe6GHrx",
        "outputId": "60c041d7-e45b-4545-d497-e7c47207d1ff"
      },
      "outputs": [
        {
          "output_type": "execute_result",
          "data": {
            "text/plain": [
              "-720.0"
            ]
          },
          "metadata": {},
          "execution_count": 5
        }
      ],
      "source": [
        "6+6*5-6*3**2*2**3/4*7"
      ]
    },
    {
      "cell_type": "code",
      "execution_count": null,
      "metadata": {
        "colab": {
          "base_uri": "https://localhost:8080/"
        },
        "id": "6pmVlHt3GHrx",
        "outputId": "1ba19034-df00-40e9-fe19-f0d7b1c75586"
      },
      "outputs": [
        {
          "output_type": "execute_result",
          "data": {
            "text/plain": [
              "2022.0"
            ]
          },
          "metadata": {},
          "execution_count": 6
        }
      ],
      "source": [
        "6+(6*5-(6*3))**2*((2**3)/4*7)"
      ]
    },
    {
      "cell_type": "markdown",
      "metadata": {
        "id": "d9FWlKsoGHrx"
      },
      "source": [
        "W standardowej notacji matematycznej pierwszym wyrażeniem jest\n",
        "\n",
        "$$6 + 6 \\times 5 - 6 \\times 3^2 \\times \\frac{2^3}{4} \\times 7,$$\n",
        "\n",
        "podczas gdy drugie wyrażenie to\n",
        "\n",
        "$$6 + (6 \\times 5 - (6 \\times 3))^2 \\times (\\frac{(2^3)}{4} \\times 7).$$\n",
        "\n",
        "**Pytanie 2.1.1.** Napisz wyrażenie Pythona w następnej komórce, które jest równe $5 \\times (3 \\frac{10}{11}) - 50 \\frac{1}{3} + 2^{.5 \\times 22} - \\frac{7}{33} + 5$.  To jest pięć razy trzy i dziesięć jedenastych, minus pięćdziesiąt i jedna trzecia, plus dwa do potęgi połowy z dwudziestu dwóch, minus siedem trzydziestych trzecich plus pięć.  Przez \"$3 \\frac{10}{11}$\" rozumiemy $3+\\frac{10}{11}$, nie $3 \\times \\frac{10}{11}$.\n",
        "\n",
        "Zastąp  ellipses (`...`) swoim wyrażeniem.  Staraj się używać nawiasów tylko tam gdzie to niezbędne.\n",
        "\n",
        "*Podpowiedź:* Prawidłowe wyjście powinno zaczynać się od znajomej liczby."
      ]
    },
    {
      "cell_type": "code",
      "execution_count": null,
      "metadata": {
        "colab": {
          "base_uri": "https://localhost:8080/"
        },
        "id": "28q-tT4GGHrx",
        "outputId": "17dafb73-6f55-4152-baa2-e1aca2dba73f"
      },
      "outputs": [
        {
          "output_type": "execute_result",
          "data": {
            "text/plain": [
              "2022.0"
            ]
          },
          "metadata": {},
          "execution_count": 39
        }
      ],
      "source": [
        "5*(3+(10/11))-(50+(1/3))+2**(.5*22)-7/33+5"
      ]
    },
    {
      "cell_type": "markdown",
      "metadata": {
        "id": "xjJKaRBfGHrz"
      },
      "source": [
        "# 3. Nazwy\n",
        "W języku naturalnym mamy terminologię, która pozwala nam szybko odwoływać się do bardzo skomplikowanych pojęć. Nie mówimy: „To duży ssak z brązowym futrem i ostrymi zębami!” Zamiast tego mówimy po prostu „Niedźwiedź!”\n",
        "\n",
        "W Pythonie robimy to za pomocą *instrukcji przypisania*. Instrukcja przypisania ma nazwę po lewej stronie znaku `=` i wyrażenie, które ma zostać rozwiązane po prawej stronie.\n"
      ]
    },
    {
      "cell_type": "code",
      "execution_count": null,
      "metadata": {
        "id": "DsOEQQO-GHrz"
      },
      "outputs": [],
      "source": [
        "dziesiec = 3 * 2 + 4"
      ]
    },
    {
      "cell_type": "markdown",
      "metadata": {
        "id": "bq5c4_h2GHr0"
      },
      "source": [
        "Po uruchomieniu tej komórki Python najpierw oblicza wartość wyrażenia po prawej stronie, `3 * 2 + 4`, czyli liczbę 10. Następnie przypisuje tę wartość do nazwy `dziesiec`. W tym momencie kod w komórce jest gotowy do działania.\n",
        "\n",
        "Po uruchomieniu tej komórki wartość 10 jest powiązana z nazwą `dziesiec`:"
      ]
    },
    {
      "cell_type": "code",
      "execution_count": null,
      "metadata": {
        "colab": {
          "base_uri": "https://localhost:8080/"
        },
        "id": "yRYHXGyOGHr1",
        "outputId": "77a3e648-c713-4438-c676-e8b0cb1dd6cb"
      },
      "outputs": [
        {
          "output_type": "execute_result",
          "data": {
            "text/plain": [
              "10"
            ]
          },
          "metadata": {},
          "execution_count": 24
        }
      ],
      "source": [
        "dziesiec = 3 * 2 + 4\n",
        "dziesiec"
      ]
    },
    {
      "cell_type": "markdown",
      "metadata": {
        "id": "Lr3lGCvjGHr2"
      },
      "source": [
        "Wyrażenie `ten = 3 * 2 + 4` nie twierdzi, że `dziesiec` jest już równe `3 * 2 + 4`, jak można by się spodziewać przez analogię z notacją matematyczną. Raczej ta linia kodu zmienia znaczenie słowa `dziesiec`; teraz odnosi się do wartości 10, podczas gdy wcześniej w ogóle nic nie znaczyło. \n",
        "\n",
        "Gdyby projektanci Pythona byli bezwzględnie pedantyczni, mogliby zmusić nas do pisania:\n",
        "\n",
        "    define the name dziesiec to hereafter have the value of 3 * 2 + 4 \n",
        "\n",
        "**Pytanie 3.1.** Spróbuj napisać kod, który używa nazwy (np. `jedenascie`), do której nie zostało nic przypisane.  Wystąpi błąd!"
      ]
    },
    {
      "cell_type": "code",
      "execution_count": null,
      "metadata": {
        "colab": {
          "base_uri": "https://localhost:8080/",
          "height": 180
        },
        "id": "FX_CBLhbGHr3",
        "outputId": "c0866cc9-097c-4dcc-d57c-37cf5027a996"
      },
      "outputs": [
        {
          "output_type": "error",
          "ename": "NameError",
          "evalue": "ignored",
          "traceback": [
            "\u001b[0;31m---------------------------------------------------------------------------\u001b[0m",
            "\u001b[0;31mNameError\u001b[0m                                 Traceback (most recent call last)",
            "\u001b[0;32m<ipython-input-27-12ae10e4a502>\u001b[0m in \u001b[0;36m<module>\u001b[0;34m()\u001b[0m\n\u001b[0;32m----> 1\u001b[0;31m \u001b[0mjedenascie\u001b[0m\u001b[0;34m\u001b[0m\u001b[0;34m\u001b[0m\u001b[0m\n\u001b[0m",
            "\u001b[0;31mNameError\u001b[0m: name 'jedenascie' is not defined"
          ]
        }
      ],
      "source": [
        "jedenascie"
      ]
    },
    {
      "cell_type": "markdown",
      "metadata": {
        "id": "Eil6WWLFGHr3"
      },
      "source": [
        "Częstą praktyką w notatnikach Jupyter jest przypisywanie wartości nazwie a następnie wywoływanie nazwy w ostatniej linii komórki, tak by jej wartość była wyświetlona jako wyjście. "
      ]
    },
    {
      "cell_type": "code",
      "execution_count": null,
      "metadata": {
        "colab": {
          "base_uri": "https://localhost:8080/"
        },
        "id": "B_etn_gMGHr3",
        "outputId": "89e76597-c5b6-4489-b32e-84a5317a2c86"
      },
      "outputs": [
        {
          "output_type": "execute_result",
          "data": {
            "text/plain": [
              "3.1415929203539825"
            ]
          },
          "metadata": {},
          "execution_count": 28
        }
      ],
      "source": [
        "close_to_pi = 355/113\n",
        "close_to_pi"
      ]
    },
    {
      "cell_type": "markdown",
      "metadata": {
        "id": "_QtHo0AQGHr4"
      },
      "source": [
        "Następną częstą praktyką jest to, że seria linii w pojedyńczej komórce tworzy złożone obliczenia etapami a pośrednim wynikom nadawane są nazwy."
      ]
    },
    {
      "cell_type": "code",
      "execution_count": null,
      "metadata": {
        "colab": {
          "base_uri": "https://localhost:8080/"
        },
        "id": "n7z6gOQEGHr4",
        "outputId": "894edd6d-d2a2-4312-df75-dcb734b23f96"
      },
      "outputs": [
        {
          "output_type": "execute_result",
          "data": {
            "text/plain": [
              "20190.0"
            ]
          },
          "metadata": {},
          "execution_count": 29
        }
      ],
      "source": [
        "semimonthly_salary = 841.25\n",
        "monthly_salary = 2 * semimonthly_salary\n",
        "number_of_months_in_a_year = 12\n",
        "yearly_salary = number_of_months_in_a_year * monthly_salary\n",
        "yearly_salary"
      ]
    },
    {
      "cell_type": "markdown",
      "metadata": {
        "id": "5wF77yzcGHr4"
      },
      "source": [
        "Nazwy w Pythonie mogą zawierać litery (duże i małe litery są w porządku i liczą się jako różne litery), podkreślenia i cyfry. Pierwszy znak nie może być liczbą (w przeciwnym razie nazwa może wyglądać jak liczba). A nazwy nie mogą zawierać spacji, ponieważ spacje służą do oddzielania fragmentów kodu od siebie.\n",
        "\n",
        "Poza tymi zasadami, to, jak coś nazwiesz, nie ma znaczenia *dla Pythona*. Na przykład ta komórka robi to samo, co komórka wyżej, z wyjątkiem tego, że wszystko ma inną nazwę:"
      ]
    },
    {
      "cell_type": "code",
      "execution_count": null,
      "metadata": {
        "colab": {
          "base_uri": "https://localhost:8080/"
        },
        "id": "7JWXX35zGHr5",
        "outputId": "dcc327b4-c393-4776-c0bc-8656a50c5e02"
      },
      "outputs": [
        {
          "output_type": "execute_result",
          "data": {
            "text/plain": [
              "20190.0"
            ]
          },
          "metadata": {},
          "execution_count": 30
        }
      ],
      "source": [
        "a = 841.25\n",
        "b = 2 * a\n",
        "c = 12\n",
        "d = c * b\n",
        "d"
      ]
    },
    {
      "cell_type": "markdown",
      "metadata": {
        "id": "7JRA8mZDGHr5"
      },
      "source": [
        "**Jednakże** nazwy są bardzo ważne, aby Twój kod był *czytelny* dla Ciebie i innych. Komórka powyżej jest krótsza, ale jest całkowicie bezużyteczna bez wyjaśnienia, co robi."
      ]
    },
    {
      "cell_type": "markdown",
      "metadata": {
        "id": "Ni8nv-Z-GHr6"
      },
      "source": [
        "## 3.1. Sprawdzanie kodu\n",
        "Tu powinna być możliwość samotestowania odpowiedzi za pomocą automatycznych wbudowanych *testów*.\n",
        "W obecnej wersji kursu testy nie działają!\n",
        "\n",
        "**Pytanie 3.1.1.** Przypisz nazwę `seconds_in_a_decade` liczbie sekund pomiędzy północą 1 stycznia 2010 i północą 1 stycznia 2020. Należy wziąć pod uwagę, że w przeciągu dekady są dwa lata przestępne. Rok nie-przestępny ma 365 dni a rok przestępny 366 dni."
      ]
    },
    {
      "cell_type": "code",
      "execution_count": null,
      "metadata": {
        "colab": {
          "base_uri": "https://localhost:8080/"
        },
        "id": "bpiBd1rbGHr6",
        "outputId": "294df09d-7099-4e56-ffdf-0e4726ed4691"
      },
      "outputs": [
        {
          "output_type": "execute_result",
          "data": {
            "text/plain": [
              "315532800"
            ]
          },
          "metadata": {},
          "execution_count": 47
        }
      ],
      "source": [
        "# Zmień następną linię \n",
        "# aby obliczała liczbę sekund w ciągu dekady \n",
        "# i przypisz tej liczbie nazwę: seconds_in_a_decade.\n",
        "\n",
        "seconds_in_a_decade = 60*60*24*365*10+24*60*60*2\n",
        "\n",
        "# Umieściliśmy tę linię w tej komórce\n",
        "# aby po uruchomieniu wypisała wartość, którą nadałeś(-aś) seconds_in_a_decade.\n",
        "# Nie musisz tego zmieniać.\n",
        "seconds_in_a_decade"
      ]
    },
    {
      "cell_type": "markdown",
      "metadata": {
        "id": "wWY27RIIGHr6"
      },
      "source": [
        "# 3.2. Komentarze\n",
        "W komórce, w której należało zamieścić odpowiedź na pytanie 3.1.2 można zauważyć linie:\n",
        "\n",
        "    # Zmień następną linię \n",
        "    # aby obliczała liczbę sekund w ciągu dekady \n",
        "    # i przypisz tej liczbie nazwę: seconds_in_a_decade.\n",
        "    \n",
        "To są *komentarze*. W Pythonie nic się nie dzieje; Python ignoruje wszystko w linii po `#`. Zamiast tego jest po to, aby przekazać coś o kodzie tobie, ludzkiemu czytelnikowi. Komentarze są niezwykle przydatne.\n",
        "\n",
        "\n",
        "<img src=\"http://imgs.xkcd.com/comics/future_self.png\">\n",
        "Source: http://imgs.xkcd.com/comics/future_self.png"
      ]
    },
    {
      "cell_type": "markdown",
      "metadata": {
        "id": "VwvIJUHFGHr7"
      },
      "source": [
        "## 3.3. Zastosowanie: Eksperyment fizyczny\n",
        "\n",
        "Podczas misji Apollo 15 na Księżyc astronauta David Scott wykonał słynną repliką eksperymentu fizycznego Galileusza, w którym wykazał, że grawitacja przyspiesza obiekty o różnych masach w tym samym tempie. Ponieważ  spadające obiekty nie mają oporu powietrza na powierzchni Księżyca, nawet dwa obiekty o bardzo różnych masach i gęstościach powinny spadać w tym samym tempie. David Scott porównał pióro i młotek.\n",
        "\n",
        "Możesz uruchomić następującą komórkę, aby obejrzeć wideo z eksperymentu."
      ]
    },
    {
      "cell_type": "code",
      "execution_count": null,
      "metadata": {
        "colab": {
          "base_uri": "https://localhost:8080/",
          "height": 320
        },
        "id": "L9yuTvpGGHr7",
        "outputId": "3ce1f0b1-f045-4f56-8f69-4295d63ee058"
      },
      "outputs": [
        {
          "output_type": "execute_result",
          "data": {
            "text/html": [
              "\n",
              "        <iframe\n",
              "            width=\"400\"\n",
              "            height=\"300\"\n",
              "            src=\"https://www.youtube.com/embed/U7db6ZeLR5s\"\n",
              "            frameborder=\"0\"\n",
              "            allowfullscreen\n",
              "        ></iframe>\n",
              "        "
            ],
            "text/plain": [
              "<IPython.lib.display.YouTubeVideo at 0x7f3a3cd1c690>"
            ],
            "image/jpeg": "[encoded data removed]"
          },
          "metadata": {},
          "execution_count": 34
        }
      ],
      "source": [
        "from IPython.display import YouTubeVideo\n",
        "# The original URL is: \n",
        "# https://www.youtube.com/watch?v=U7db6ZeLR5s\n",
        "\n",
        "YouTubeVideo(\"U7db6ZeLR5s\")"
      ]
    },
    {
      "cell_type": "markdown",
      "metadata": {
        "id": "AasDAsLSGHr8"
      },
      "source": [
        "Oto transkrypcja filmu:\n",
        "\n",
        "**167:22:06 Scott**: Well, in my left hand, I have a feather; in my right hand, a hammer. And I guess one of the reasons we got here today was because of a gentleman named Galileo, a long time ago, who made a rather significant discovery about falling objects in gravity fields. And we thought where would be a better place to confirm his findings than on the Moon. And so we thought we'd try it here for you. The feather happens to be, appropriately, a falcon feather for our Falcon. And I'll drop the two of them here and, hopefully, they'll hit the ground at the same time. \n",
        "\n",
        "**167:22:43 Scott**: How about that!\n",
        "\n",
        "**167:22:45 Allen**: How about that! (Applause in Houston)\n",
        "\n",
        "**167:22:46 Scott**: Which proves that Mr. Galileo was correct in his findings."
      ]
    },
    {
      "cell_type": "markdown",
      "metadata": {
        "id": "RjpvcTFJGHr8"
      },
      "source": [
        "**Prawo Newtona.** Korzystając z tego materiału, możemy również spróbować potwierdzić inny znany fragment fizyki: prawo powszechnego ciążenia Newtona. Prawa Newtona przewidują, że każdy obiekt upuszczony w pobliżu powierzchni Księżyca powinien spaść\n",
        "\n",
        "$$\\frac{1}{2} G \\frac{M}{R^2} t^2 \\text{ metrów}$$\n",
        "\n",
        "po $t$ sekundach, gdzie $G$ jest uniwersalną stałą, $M$ jest masą księżyca w kilogramach a $R$ jest promieniem księżyca w metrach. Więc, jeśli znamy $G$, $M$ i $R$, to prawo Newtona pozwoli przewidzieć ile obiekt spadnie w dowolnym czasie.\n",
        "\n",
        "Aby zweryfikować dokładność tego prawa, obliczymy różnicę między przewidywaną odległością, na którą spada młot, a odległością rzeczywistą. (Jeśli są różne, może to wynikać z tego, że prawa Newtona są błędne, nasze pomiary są nieprecyzyjne lub istnieją inne czynniki wpływające na młotek, których nie uwzględniliśmy).\n",
        "\n",
        "Ktoś przestudiował film i oszacował, że młotek został upuszczony z wysokości 113 cm nad powierdchnią. Licząc ramki filmu, młotek spada przez 1.2 sekundy (36 ramek)."
      ]
    },
    {
      "cell_type": "markdown",
      "metadata": {
        "id": "iYSn3Z0yGHr9"
      },
      "source": [
        "**Pytanie 3.3.1.** Uzupełnij kod w następnej komórce, wypełnij danymi z eksperymentu.\n",
        "\n",
        "*Podpowiedź:* Nie wymaga obliczeń; wystarczy wypełnić dane z powyższego paragrafu."
      ]
    },
    {
      "cell_type": "code",
      "execution_count": null,
      "metadata": {
        "id": "vasxtwAzGHr9"
      },
      "outputs": [],
      "source": [
        "# t, czas spadania podczas eksperymentu, w sekunach.\n",
        "# Wypełnij.\n",
        "time = 1.2\n",
        "\n",
        "# The estimated distance the hammer actually fell, in meters.\n",
        "# Wypełnij.\n",
        "estimated_distance_m = 113/100"
      ]
    },
    {
      "cell_type": "markdown",
      "metadata": {
        "id": "kap6o_lOGHr-"
      },
      "source": [
        "**Pytanie 3.3.2.** Teraz, uzupełnij kod komórki aby wyznaczyć różnicę między przewidywaną i szacowaną odległością (w metrach), na którą spadł młot w tym eksperymencie.\n",
        "\n",
        "Oznacza to po prostu przetłumaczenie wzoru ($\\frac{1}{2}G\\frac{M}{R^2}t^2$) na kod Pythona.  Należy zastąpić każdą zmienną w formule matematycznej nazwą, którą nadaliśmy tej liczbie w kodzie Pythona.\n",
        "\n",
        "*Podpowiedź:* Spróbuj wykorzystać zmienne zdefiniowane w pytaniu 3.3.1"
      ]
    },
    {
      "cell_type": "code",
      "execution_count": null,
      "metadata": {
        "colab": {
          "base_uri": "https://localhost:8080/"
        },
        "id": "H8EVBZh_GHr-",
        "outputId": "70ceb4a5-bac9-420f-ee6d-7cfaa90bdc67"
      },
      "outputs": [
        {
          "output_type": "execute_result",
          "data": {
            "text/plain": [
              "0.040223694659304865"
            ]
          },
          "metadata": {},
          "execution_count": 60
        }
      ],
      "source": [
        "# First, we've written down the values of the 3 universal constants \n",
        "# that show up in Newton's formula.\n",
        "\n",
        "# G, the universal constant measuring the strength of gravity.\n",
        "gravity_constant = 6.674 * 10**-11\n",
        "\n",
        "# M, the moon's mass, in kilograms.\n",
        "moon_mass_kg = 7.34767309 * 10**22\n",
        "\n",
        "# R, the radius of the moon, in meters.\n",
        "moon_radius_m = 1.737 * 10**6\n",
        "\n",
        "# The distance the hammer should have fallen \n",
        "# over the duration of the fall, in meters, \n",
        "# according to Newton's law of gravity.  \n",
        "# The text above describes the formula\n",
        "# for this distance given by Newton's law.\n",
        "# **YOU FILL THIS PART IN.**\n",
        "predicted_distance_m = (1/2)*gravity_constant*moon_mass_kg/(moon_radius_m**2)*(time**2)\n",
        "\n",
        "# Here we've computed the difference \n",
        "# between the predicted fall distance and the distance we actually measured.\n",
        "# If you've filled in the above code, this should just work.\n",
        "difference = predicted_distance_m - estimated_distance_m\n",
        "difference"
      ]
    },
    {
      "cell_type": "markdown",
      "metadata": {
        "id": "lXahuKK_GHr-"
      },
      "source": [
        "## 4. Wywoływanie funkcji\n",
        "\n",
        "Najpopularniejszym sposobem łączenia lub manipulowania wartościami w Pythonie jest wywoływanie funkcji. Python ma wiele wbudowanych funkcji, które wykonują typowe operacje.\n",
        "\n",
        "Na przykład funkcja `abs` przyjmuje jako argument pojedynczą liczbę i zwraca wartość bezwzględną tej liczby. Uruchom kolejne dwie komórki i sprawdź, czy rozumiesz dane wyjściowe."
      ]
    },
    {
      "cell_type": "code",
      "execution_count": null,
      "metadata": {
        "colab": {
          "base_uri": "https://localhost:8080/"
        },
        "id": "NdCLYFjaGHr_",
        "outputId": "34fb5584-0325-442e-e65e-570ef42c497f"
      },
      "outputs": [
        {
          "output_type": "execute_result",
          "data": {
            "text/plain": [
              "5"
            ]
          },
          "metadata": {},
          "execution_count": 48
        }
      ],
      "source": [
        "abs(5)"
      ]
    },
    {
      "cell_type": "code",
      "execution_count": null,
      "metadata": {
        "colab": {
          "base_uri": "https://localhost:8080/"
        },
        "id": "Eux0YX9wGHr_",
        "outputId": "e5071d1e-319e-4abc-f044-33a32914b634"
      },
      "outputs": [
        {
          "output_type": "execute_result",
          "data": {
            "text/plain": [
              "5"
            ]
          },
          "metadata": {},
          "execution_count": 49
        }
      ],
      "source": [
        "abs(-5)"
      ]
    },
    {
      "cell_type": "markdown",
      "metadata": {
        "id": "jaaB0qYpGHr_"
      },
      "source": [
        "## 4.1. Zastosowanie: Obliczanie odległości na piechotę\n",
        "Chunhua jest na rogu 7th Avenue i 42nd Street w Midtown Manhattan, i chce wiedzieć jak daleko będzie musiała iść pieszo do Gramercy School na rogu 10th Avenue i 34th Street.\n",
        "\n",
        "Nie może przecinać bloków po przekątnej, ponieważ na drodze stoją budynki. Musi iść chodnikami. Korzystając z mapy poniżej, widzi, że musiałaby przejść 3 aleje (długie przecznice *Avenue*) i 8 ulic (krótkie przecznice *Streets*). W odniesieniu do podanych liczb obliczyła 3 jako różnicę między 7 a 10, *w wartości bezwzględnej*, a 8 podobnie.  \n",
        "\n",
        "Chunhua wie również, że bloki na Manhattanie mają wymiary około 80 na 274 m (aleje są dalej od siebie niż ulice).  Więc w sumie musiałaby przejść $(80 \\times |42 - 34| + 274 \\times |7 - 10|)$ metrów aby dostać się do parku.\n",
        "\n",
        "<img src=\"map.jpg\"/>\n",
        "\n",
        "**Pytanie 4.1.1.** Wypełnij linię `num_avenues_away = ...` w następnej komórce, tak by komórka wyznaczyła odległość jaką Chunhua musi przejść i nadała jej nazwę `manhattan_distance`.  Wszystko inne zostało dla ciebie wypełnione. **Użyj funkcji `abs`.** "
      ]
    },
    {
      "cell_type": "code",
      "execution_count": null,
      "metadata": {
        "colab": {
          "base_uri": "https://localhost:8080/"
        },
        "id": "BxrVrzwHGHsA",
        "outputId": "1d5435e6-381c-4622-c5d8-ff48f06b5d61"
      },
      "outputs": [
        {
          "output_type": "execute_result",
          "data": {
            "text/plain": [
              "1462"
            ]
          },
          "metadata": {},
          "execution_count": 50
        }
      ],
      "source": [
        "# Here's the number of streets away:\n",
        "num_streets_away = abs(42-34)\n",
        "\n",
        "# Compute the number of avenues away in a similar way:\n",
        "num_avenues_away = abs(7-10)\n",
        "\n",
        "street_length_m = 80\n",
        "avenue_length_m = 274\n",
        "\n",
        "# Now we compute the total distance Chunhua must walk.\n",
        "manhattan_distance = street_length_m*num_streets_away + avenue_length_m*num_avenues_away\n",
        "\n",
        "# We've included this line so that you see the distance you've computed \n",
        "# when you run this cell.  \n",
        "# You don't need to change it, but you can if you want.\n",
        "manhattan_distance"
      ]
    },
    {
      "cell_type": "markdown",
      "metadata": {
        "id": "GNcPEQhjGHsA"
      },
      "source": [
        "##### Wiele argumentów\n",
        "Niektóre funkcje przyjmują wiele argumentów oddzielonych przecinkami. Na przykład wbudowana funkcja `max` zwraca maksymalny przekazany do niej argument."
      ]
    },
    {
      "cell_type": "code",
      "execution_count": null,
      "metadata": {
        "colab": {
          "base_uri": "https://localhost:8080/"
        },
        "id": "djoHUtMnGHsB",
        "outputId": "712d328b-2765-4675-8b05-440b5d598e09"
      },
      "outputs": [
        {
          "output_type": "execute_result",
          "data": {
            "text/plain": [
              "4"
            ]
          },
          "metadata": {},
          "execution_count": 51
        }
      ],
      "source": [
        "max(2, -3, 4, -5)"
      ]
    },
    {
      "cell_type": "markdown",
      "metadata": {
        "id": "lgVNJkQvGHsC"
      },
      "source": [
        "# 5. Zrozumienie wyrażeń zagnieżdżonych\n",
        "Wywołania funkcji i wyrażenia arytmetyczne mogą same zawierać wyrażenia. Na przykład w ostatnim pytaniu:\n",
        "\n",
        "    abs(42-34)\n",
        "\n",
        "ma 2 wyrażenia liczbowe w wyrażeniu odejmowania i w wyrażeniu wywołania funkcji. I prawdopodobnie w obliczeniu `num_avenues_away` użyte zostało coś takiego `abs(7-10)`.\n",
        "\n",
        "Wyrażenia zagnieżdżone mogą przekształcić się w skomplikowany kod. Jednak sposób, w jaki rozkładają się skomplikowane wyrażenia, jest bardzo regularny.\n",
        "\n",
        "Załóżmy, że interesują nas wysokości, które są bardzo nietypowe. Powiemy, że wzrost jest niezwykły do tego stopnia, że jest daleko na osi liczbowej od średniego wzrostu człowieka.  [Oszacowanie](http://press.endocrine.org/doi/full/10.1210/jcem.86.9.7875?ck=nck&) średniego wzrostu człowieka (uśredniając, mam nadzieję, w stosunku do wszystkich ludzi na Ziemi dzisiaj) to 1.688 metra.\n",
        "\n",
        "Jeśli Kayla ma 1.21 metra wzrostu, jej wzrost jest $|1.21 - 1.688|$, lub $.478$, metra od średniej. Tutaj jest ilustracja tego:\n",
        "\n",
        "<img src=\"numberline_0.png\">\n",
        "\n",
        "A oto jak napisalibyśmy to w jednym wierszu kodu Pythona:"
      ]
    },
    {
      "cell_type": "code",
      "execution_count": null,
      "metadata": {
        "colab": {
          "base_uri": "https://localhost:8080/"
        },
        "id": "v96h1cZjGHsC",
        "outputId": "4deb9a57-01f9-468c-d7d5-6324d59debbf"
      },
      "outputs": [
        {
          "output_type": "execute_result",
          "data": {
            "text/plain": [
              "0.478"
            ]
          },
          "metadata": {},
          "execution_count": 52
        }
      ],
      "source": [
        "abs(1.21 - 1.688)"
      ]
    },
    {
      "cell_type": "markdown",
      "metadata": {
        "id": "14BLbSu9GHsC"
      },
      "source": [
        "Co tu się dzieje?  `abs` bierze tylko jeden argument, więc wszystko w nawiasach jest częścią tego *jednego argumentu*.  Precyzyjnie, argumentem jest wartość wyrażenia `1.21 - 1.688`.  Wartość tego wyrażenia to `-.478`.  Ta wartość jest argumentem funkcji `abs`.  Wartość bezwzględna tej wartości to `.478`, więc `.478` jest wartością pełnego wyrażenia `abs(1.21 - 1.688)`.\n",
        "\n",
        "Obraz upraszczający wyrażenie w kilku krokach:\n",
        "\n",
        "1. `abs(1.21 - 1.688)`\n",
        "2. `abs(-.478)`\n",
        "3. `.478`\n",
        "\n",
        "W rzeczywistości to właśnie robi Python, aby obliczyć wartość wyrażenia."
      ]
    },
    {
      "cell_type": "markdown",
      "metadata": {
        "id": "GAowPBs-GHsD"
      },
      "source": [
        "**Pytanie 5.1.** Niech wzrost Paoli wynosi 1.76 metra.  W następnej komórce, użyj funkcji `abs` do wyliczenia wartości bezwzględnej z różnicy pomiędzy wzrostem Paoli a średnim wzrostem człowieka.  Niech ta wartość nazywa się: `paola_distance_from_average_m`.\n",
        "\n",
        "<img src=\"numberline_1.png\">"
      ]
    },
    {
      "cell_type": "code",
      "execution_count": null,
      "metadata": {
        "colab": {
          "base_uri": "https://localhost:8080/"
        },
        "id": "JdteBMTWGHsD",
        "outputId": "4c1be3ec-0e5c-4bcb-fb14-8a7034ba0fae"
      },
      "outputs": [
        {
          "output_type": "execute_result",
          "data": {
            "text/plain": [
              "0.07200000000000006"
            ]
          },
          "metadata": {},
          "execution_count": 55
        }
      ],
      "source": [
        "# Zastąp ... wyrażeniem \n",
        "# by wyliczyć wartość bezwzględną \n",
        "# różnicy pomiędzy wzrostem Paoli (1.76m) a średnim zwrostem człowieka.\n",
        "paola_distance_from_average_m = abs(1.76 - 1.688)\n",
        "\n",
        "# Znowu napisaliśmy to tutaj\n",
        "# aby obliczona odległość została wydrukowana\n",
        "# po uruchomieniu tej komórki.\n",
        "paola_distance_from_average_m"
      ]
    },
    {
      "cell_type": "markdown",
      "metadata": {
        "id": "ico_i5JmGHsD"
      },
      "source": [
        "## 5.1. Więcej zagnieżdżania\n",
        "Teraz powiedzmy, że chcemy obliczyć bardziej niezwykłą z tych dwóch wysokości. Użyjemy funkcji `max`, która (ponownie) przyjmuje dwie liczby jako argumenty i zwraca większą z dwóch argumentów. Łącząc to z funkcją `abs`, możemy obliczyć większą odległość od średniej z dwóch wysokości:"
      ]
    },
    {
      "cell_type": "code",
      "execution_count": null,
      "metadata": {
        "colab": {
          "base_uri": "https://localhost:8080/"
        },
        "id": "_Xqk3fmMGHsE",
        "outputId": "31f97652-2f64-4aca-e9aa-0d68f308e5e1"
      },
      "outputs": [
        {
          "output_type": "stream",
          "name": "stdout",
          "text": [
            "Większa odległość od średniego wzrostu wśród tych dwóch osób to 0.478 metra.\n"
          ]
        }
      ],
      "source": [
        "# Po prostu przeczytaj i uruchom tę komórkę.\n",
        "\n",
        "kayla_height_m = 1.21\n",
        "paola_height_m = 1.76\n",
        "average_adult_height_m = 1.688\n",
        "\n",
        "# Większa odległość od przeciętnego wzrostu człowieka wśród dwóch wysokości:\n",
        "larger_distance_m = max(abs(kayla_height_m - average_adult_height_m), abs(paola_height_m - average_adult_height_m))\n",
        "\n",
        "# Wydrukuj nasze wyniki w ładnym, czytelnym formacie:\n",
        "print(\"Większa odległość od średniego wzrostu wśród tych dwóch osób to\", larger_distance_m, \"metra.\")"
      ]
    },
    {
      "cell_type": "markdown",
      "metadata": {
        "id": "zM9GqHCgGHsE"
      },
      "source": [
        "Linia, w której wyliczana jest`larger_distance_m` wygląda na skomplikowaną, ale możemy rozłożyć ją na prostsze elementy, tak jak robiliśmy to wcześniej.\n",
        "\n",
        "Podstawowym przepisem jest wielokrotne upraszczanie małych części wyrażenia:\n",
        "* **Podstawowe wyrażenia:** Zacznij od wyrażeń, których wartości znamy, takich jak nazwy lub liczby.\n",
        "    - Przykłady: `paola_height_m` lub `5`.\n",
        "* **Znajdź następną najprostszą grupę wyrażeń:** Poszukaj podstawowych wyrażeń, które są ze sobą bezpośrednio połączone. Może to być wyrażenie arytmetyczne lub jako argumenty wywołania funkcji. \n",
        "    - Przykład: `kayla_height_m - average_adult_height_m`.\n",
        "* **Oblicz tą grupę:** Oblicz wyrażenie arytmetyczne lub wywołanie funkcji. Użyj obliczonej wartości, aby zastąpić grupę wyrażeń.  \n",
        "    - Przykład: `kayla_height_m - average_adult_height_m` staje się `-.478`.\n",
        "* **Powtarzaj:** Kontynuuj ten proces, używając wartości wcześniej oszacowanego wyrażenia jako nowego wyrażenia podstawowego. Zatrzymaj się, gdy obliczymy całe wyrażenie.\n",
        "    - Przykład: `abs(-.478)` staje się `.478`, a `max(.478, .072)` staje się `.478`.\n",
        "\n",
        "Możesz uruchomić następną komórkę, aby zobaczyć pokaz slajdów tego procesu."
      ]
    },
    {
      "cell_type": "code",
      "execution_count": null,
      "metadata": {
        "colab": {
          "base_uri": "https://localhost:8080/",
          "height": 620
        },
        "id": "LX89D6yIGHsF",
        "outputId": "e8bcb514-3313-4988-ce8b-270c6f6f2971"
      },
      "outputs": [
        {
          "output_type": "execute_result",
          "data": {
            "text/html": [
              "\n",
              "        <iframe\n",
              "            width=\"800\"\n",
              "            height=\"600\"\n",
              "            src=\"https://docs.google.com/presentation/d/e/2PACX-1vTiIUOa9tP4pHPesrI8p2TCp8WCOJtTb3usOacQFPfkEfvQMmX-JYEW3OnBoTmQEJWAHdBP6Mvp053G/embed?start=false&loop=false&delayms=3000\"\n",
              "            frameborder=\"0\"\n",
              "            allowfullscreen\n",
              "        ></iframe>\n",
              "        "
            ],
            "text/plain": [
              "<IPython.lib.display.IFrame at 0x7f3a3c870950>"
            ]
          },
          "metadata": {},
          "execution_count": 57
        }
      ],
      "source": [
        "from IPython.display import IFrame\n",
        "IFrame('https://docs.google.com/presentation/d/e/2PACX-1vTiIUOa9tP4pHPesrI8p2TCp8WCOJtTb3usOacQFPfkEfvQMmX-JYEW3OnBoTmQEJWAHdBP6Mvp053G/embed?start=false&loop=false&delayms=3000', 800, 600)"
      ]
    },
    {
      "cell_type": "markdown",
      "metadata": {
        "id": "w_qZs16iGHsG"
      },
      "source": [
        "**Pytanie.5.1.** Mając dane wzrosty graczy z Golden State Warriors, napisz wyrażenie, które obliczy najmniejszą różnicę między dowolnymi trzema wzrostami. Twoje wyrażenie nie powinno zawierać żadnych liczb, a jedynie wywołania funkcji i nazwy `klay`, `steph`, and `dangelo`. Nadaj wartości wyrażenia nazwę `min_height_difference`."
      ]
    },
    {
      "cell_type": "code",
      "execution_count": null,
      "metadata": {
        "colab": {
          "base_uri": "https://localhost:8080/"
        },
        "id": "fODifNLZGHsG",
        "outputId": "5e685167-39a7-474d-b596-7124fa78a355"
      },
      "outputs": [
        {
          "output_type": "execute_result",
          "data": {
            "text/plain": [
              "0.040000000000000036"
            ]
          },
          "metadata": {},
          "execution_count": 61
        }
      ],
      "source": [
        "# Wzrosty trzech graczy, w metrach:\n",
        "klay =  2.01 # Klay Thompson is 6'7\"\n",
        "steph = 1.91 # Steph Curry is 6'3\"\n",
        "dangelo = 1.95 # D'Angelo Russell is 6'5\"\n",
        "             \n",
        "# Należy zbadać wszystkie 3 pary wzrostów,\n",
        "# obliczyć bezwzględną różnicę między każdą parą,\n",
        "# a następnie znaleźć najmniejszą z tych 3 bezwzględnych różnic.\n",
        "# Jeśli utkniesz, spróbuj obliczyć wartość dla każdego etapu procesu\n",
        "# (jaka różnica między wzrostem gracza Klay a wzrostem gracza Steph)\n",
        "# w osobnym wierszu i nadając mu nazwę (np. klay_steph_height_diff)\n",
        "min_height_difference = min(abs(klay - steph), abs(klay - dangelo), abs(steph - dangelo))\n",
        "min_height_difference"
      ]
    },
    {
      "cell_type": "markdown",
      "metadata": {
        "id": "BLQgt_stGHsH"
      },
      "source": [
        "Laboratorium 1 skończone! Na zakończenie należy wybrać **Save and Checkpoint**  z menu **File**, a następnie przesłać swoją pracę w sposób przekazany przez prowadzącego. "
      ]
    },
    {
      "cell_type": "code",
      "execution_count": null,
      "metadata": {
        "id": "PKzL8ublGHsH"
      },
      "outputs": [],
      "source": [
        ""
      ]
    }
  ],
  "metadata": {
    "anaconda-cloud": {},
    "kernelspec": {
      "display_name": "Python 3 (ipykernel)",
      "language": "python",
      "name": "python3"
    },
    "language_info": {
      "codemirror_mode": {
        "name": "ipython",
        "version": 3
      },
      "file_extension": ".py",
      "mimetype": "text/x-python",
      "name": "python",
      "nbconvert_exporter": "python",
      "pygments_lexer": "ipython3",
      "version": "3.9.7"
    },
    "colab": {
      "name": "lab01(1).ipynb",
      "provenance": [],
      "collapsed_sections": [
        "CRHZKC-VGHrs"
      ],
      "include_colab_link": true
    }
  },
  "nbformat": 4,
  "nbformat_minor": 0
}